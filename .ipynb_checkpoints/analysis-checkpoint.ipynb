{
 "cells": [
  {
   "cell_type": "code",
   "execution_count": 123,
   "metadata": {},
   "outputs": [],
   "source": [
    "%matplotlib inline\n",
    "import pandas as pd \n",
    "import numpy as np\n",
    "from statsmodels.stats.multicomp import pairwise_tukeyhsd\n",
    "from statsmodels.stats.multicomp import MultiComparison"
   ]
  },
  {
   "cell_type": "code",
   "execution_count": 2,
   "metadata": {},
   "outputs": [],
   "source": [
    "data = pd.read_csv(\"playlists.csv\", sep=\";\", encoding = \"ISO-8859-1\") "
   ]
  },
  {
   "cell_type": "code",
   "execution_count": 10,
   "metadata": {},
   "outputs": [
    {
     "data": {
      "text/plain": [
       "(1782, 64)"
      ]
     },
     "execution_count": 10,
     "metadata": {},
     "output_type": "execute_result"
    }
   ],
   "source": [
    "data.shape"
   ]
  },
  {
   "cell_type": "code",
   "execution_count": 3,
   "metadata": {},
   "outputs": [
    {
     "data": {
      "text/plain": [
       "Index(['company', 'playlist_sample', 'namesfiles', 'no', 'artist', 'song',\n",
       "       'sampleratefiles', 'totalsamplesfiles', 'durationfiles', 'bitratefiles',\n",
       "       'rmsfiles', 'rmsmedianfiles', 'lowenergyfiles', 'ASRfiles',\n",
       "       'beatspectrumfiles', 'eventdensityfiles', 'tempofiles',\n",
       "       'pulseclarityfiles', 'zerocrossfiles', 'rolloffsfiles',\n",
       "       'brightnessfiles', 'spreadfiles', 'centroidfiles', 'kurtosisfiles',\n",
       "       'flatnessfiles', 'entropyfiles', 'mfccfiles_1', 'mfccfiles_2',\n",
       "       'mfccfiles_3', 'mfccfiles_4', 'mfccfiles_5', 'mfccfiles_6',\n",
       "       'mfccfiles_7', 'mfccfiles_8', 'mfccfiles_9', 'mfccfiles_10',\n",
       "       'mfccfiles_11', 'mfccfiles_12', 'mfccfiles_13', 'pitchfiles',\n",
       "       'inharmonicityfiles', 'bestkeyfiles', 'keyclarityfiles',\n",
       "       'modalityfiles', 'tonalcentroidfiles_1', 'tonalcentroidfiles_2',\n",
       "       'tonalcentroidfiles_3', 'tonalcentroidfiles_4', 'tonalcentroidfiles_5',\n",
       "       'tonalcentroidfiles_6', 'chromagramfiles_1', 'chromagramfiles_2',\n",
       "       'chromagramfiles_3', 'chromagramfiles_4', 'chromagramfiles_5',\n",
       "       'chromagramfiles_6', 'chromagramfiles_7', 'chromagramfiles_8',\n",
       "       'chromagramfiles_9', 'chromagramfiles_10', 'chromagramfiles_11',\n",
       "       'chromagramfiles_12', 'attackslopefiles', 'attackleapfiles'],\n",
       "      dtype='object')"
      ]
     },
     "execution_count": 3,
     "metadata": {},
     "output_type": "execute_result"
    }
   ],
   "source": [
    "data.columns"
   ]
  },
  {
   "cell_type": "code",
   "execution_count": 33,
   "metadata": {},
   "outputs": [
    {
     "data": {
      "text/html": [
       "<div>\n",
       "<style scoped>\n",
       "    .dataframe tbody tr th:only-of-type {\n",
       "        vertical-align: middle;\n",
       "    }\n",
       "\n",
       "    .dataframe tbody tr th {\n",
       "        vertical-align: top;\n",
       "    }\n",
       "\n",
       "    .dataframe thead th {\n",
       "        text-align: right;\n",
       "    }\n",
       "</style>\n",
       "<table border=\"1\" class=\"dataframe\">\n",
       "  <thead>\n",
       "    <tr style=\"text-align: right;\">\n",
       "      <th></th>\n",
       "      <th>company</th>\n",
       "      <th>playlist_sample</th>\n",
       "      <th>namesfiles</th>\n",
       "      <th>no</th>\n",
       "      <th>artist</th>\n",
       "      <th>song</th>\n",
       "      <th>sampleratefiles</th>\n",
       "      <th>totalsamplesfiles</th>\n",
       "      <th>durationfiles</th>\n",
       "      <th>bitratefiles</th>\n",
       "      <th>...</th>\n",
       "      <th>chromagramfiles_5</th>\n",
       "      <th>chromagramfiles_6</th>\n",
       "      <th>chromagramfiles_7</th>\n",
       "      <th>chromagramfiles_8</th>\n",
       "      <th>chromagramfiles_9</th>\n",
       "      <th>chromagramfiles_10</th>\n",
       "      <th>chromagramfiles_11</th>\n",
       "      <th>chromagramfiles_12</th>\n",
       "      <th>attackslopefiles</th>\n",
       "      <th>attackleapfiles</th>\n",
       "    </tr>\n",
       "  </thead>\n",
       "  <tbody>\n",
       "    <tr>\n",
       "      <th>0</th>\n",
       "      <td>Arte Francés</td>\n",
       "      <td>4</td>\n",
       "      <td>01 - Klischee - Swing It Like Roger.mp3       ...</td>\n",
       "      <td>1</td>\n",
       "      <td>Klischee</td>\n",
       "      <td>Swing It Like Roger.mp3                      ...</td>\n",
       "      <td>44100</td>\n",
       "      <td>8672822</td>\n",
       "      <td>196.662625</td>\n",
       "      <td>320</td>\n",
       "      <td>...</td>\n",
       "      <td>0.088080</td>\n",
       "      <td>0.344721</td>\n",
       "      <td>0.000000</td>\n",
       "      <td>0.029990</td>\n",
       "      <td>0.000000</td>\n",
       "      <td>0.123955</td>\n",
       "      <td>0.999999</td>\n",
       "      <td>0.025801</td>\n",
       "      <td>17.573492</td>\n",
       "      <td>0.456036</td>\n",
       "    </tr>\n",
       "    <tr>\n",
       "      <th>1</th>\n",
       "      <td>Arte Francés</td>\n",
       "      <td>4</td>\n",
       "      <td>01 - Klischee - Swing It Like Roger.mp3       ...</td>\n",
       "      <td>1</td>\n",
       "      <td>Klischee</td>\n",
       "      <td>Swing It Like Roger.mp3                      ...</td>\n",
       "      <td>44100</td>\n",
       "      <td>8672822</td>\n",
       "      <td>196.662625</td>\n",
       "      <td>320</td>\n",
       "      <td>...</td>\n",
       "      <td>0.174508</td>\n",
       "      <td>0.340706</td>\n",
       "      <td>0.191612</td>\n",
       "      <td>0.860171</td>\n",
       "      <td>0.415158</td>\n",
       "      <td>0.372546</td>\n",
       "      <td>1.000000</td>\n",
       "      <td>0.333313</td>\n",
       "      <td>3.057561</td>\n",
       "      <td>0.258182</td>\n",
       "    </tr>\n",
       "    <tr>\n",
       "      <th>2</th>\n",
       "      <td>Arte Francés</td>\n",
       "      <td>4</td>\n",
       "      <td>01 - Klischee - Swing It Like Roger.mp3       ...</td>\n",
       "      <td>1</td>\n",
       "      <td>Klischee</td>\n",
       "      <td>Swing It Like Roger.mp3                      ...</td>\n",
       "      <td>44100</td>\n",
       "      <td>8672822</td>\n",
       "      <td>196.662625</td>\n",
       "      <td>320</td>\n",
       "      <td>...</td>\n",
       "      <td>0.151998</td>\n",
       "      <td>0.348799</td>\n",
       "      <td>0.194046</td>\n",
       "      <td>0.831852</td>\n",
       "      <td>0.582866</td>\n",
       "      <td>0.444389</td>\n",
       "      <td>1.000000</td>\n",
       "      <td>0.254364</td>\n",
       "      <td>20.069370</td>\n",
       "      <td>0.229477</td>\n",
       "    </tr>\n",
       "    <tr>\n",
       "      <th>3</th>\n",
       "      <td>Arte Francés</td>\n",
       "      <td>4</td>\n",
       "      <td>02 - Shazalakazoo - Sunny Side Of The Street.m...</td>\n",
       "      <td>2</td>\n",
       "      <td>Shazalakazoo</td>\n",
       "      <td>Sunny Side Of The Street.mp3                 ...</td>\n",
       "      <td>44100</td>\n",
       "      <td>11231507</td>\n",
       "      <td>254.682700</td>\n",
       "      <td>320</td>\n",
       "      <td>...</td>\n",
       "      <td>0.183869</td>\n",
       "      <td>0.046128</td>\n",
       "      <td>0.047070</td>\n",
       "      <td>0.103043</td>\n",
       "      <td>0.912696</td>\n",
       "      <td>1.000000</td>\n",
       "      <td>0.104921</td>\n",
       "      <td>0.131453</td>\n",
       "      <td>6.403050</td>\n",
       "      <td>0.169508</td>\n",
       "    </tr>\n",
       "    <tr>\n",
       "      <th>4</th>\n",
       "      <td>Arte Francés</td>\n",
       "      <td>4</td>\n",
       "      <td>02 - Shazalakazoo - Sunny Side Of The Street.m...</td>\n",
       "      <td>2</td>\n",
       "      <td>Shazalakazoo</td>\n",
       "      <td>Sunny Side Of The Street.mp3                 ...</td>\n",
       "      <td>44100</td>\n",
       "      <td>11231507</td>\n",
       "      <td>254.682700</td>\n",
       "      <td>320</td>\n",
       "      <td>...</td>\n",
       "      <td>0.179867</td>\n",
       "      <td>0.029339</td>\n",
       "      <td>0.036758</td>\n",
       "      <td>0.070648</td>\n",
       "      <td>0.916178</td>\n",
       "      <td>1.000000</td>\n",
       "      <td>0.090701</td>\n",
       "      <td>0.125767</td>\n",
       "      <td>10.845848</td>\n",
       "      <td>0.402227</td>\n",
       "    </tr>\n",
       "  </tbody>\n",
       "</table>\n",
       "<p>5 rows × 64 columns</p>\n",
       "</div>"
      ],
      "text/plain": [
       "        company  playlist_sample  \\\n",
       "0  Arte Francés                4   \n",
       "1  Arte Francés                4   \n",
       "2  Arte Francés                4   \n",
       "3  Arte Francés                4   \n",
       "4  Arte Francés                4   \n",
       "\n",
       "                                          namesfiles  no          artist  \\\n",
       "0  01 - Klischee - Swing It Like Roger.mp3       ...   1       Klischee    \n",
       "1  01 - Klischee - Swing It Like Roger.mp3       ...   1       Klischee    \n",
       "2  01 - Klischee - Swing It Like Roger.mp3       ...   1       Klischee    \n",
       "3  02 - Shazalakazoo - Sunny Side Of The Street.m...   2   Shazalakazoo    \n",
       "4  02 - Shazalakazoo - Sunny Side Of The Street.m...   2   Shazalakazoo    \n",
       "\n",
       "                                                song  sampleratefiles  \\\n",
       "0   Swing It Like Roger.mp3                      ...            44100   \n",
       "1   Swing It Like Roger.mp3                      ...            44100   \n",
       "2   Swing It Like Roger.mp3                      ...            44100   \n",
       "3   Sunny Side Of The Street.mp3                 ...            44100   \n",
       "4   Sunny Side Of The Street.mp3                 ...            44100   \n",
       "\n",
       "   totalsamplesfiles  durationfiles  bitratefiles       ...         \\\n",
       "0            8672822     196.662625           320       ...          \n",
       "1            8672822     196.662625           320       ...          \n",
       "2            8672822     196.662625           320       ...          \n",
       "3           11231507     254.682700           320       ...          \n",
       "4           11231507     254.682700           320       ...          \n",
       "\n",
       "   chromagramfiles_5  chromagramfiles_6  chromagramfiles_7  chromagramfiles_8  \\\n",
       "0           0.088080           0.344721           0.000000           0.029990   \n",
       "1           0.174508           0.340706           0.191612           0.860171   \n",
       "2           0.151998           0.348799           0.194046           0.831852   \n",
       "3           0.183869           0.046128           0.047070           0.103043   \n",
       "4           0.179867           0.029339           0.036758           0.070648   \n",
       "\n",
       "   chromagramfiles_9  chromagramfiles_10  chromagramfiles_11  \\\n",
       "0           0.000000            0.123955            0.999999   \n",
       "1           0.415158            0.372546            1.000000   \n",
       "2           0.582866            0.444389            1.000000   \n",
       "3           0.912696            1.000000            0.104921   \n",
       "4           0.916178            1.000000            0.090701   \n",
       "\n",
       "   chromagramfiles_12  attackslopefiles  attackleapfiles  \n",
       "0            0.025801         17.573492         0.456036  \n",
       "1            0.333313          3.057561         0.258182  \n",
       "2            0.254364         20.069370         0.229477  \n",
       "3            0.131453          6.403050         0.169508  \n",
       "4            0.125767         10.845848         0.402227  \n",
       "\n",
       "[5 rows x 64 columns]"
      ]
     },
     "execution_count": 33,
     "metadata": {},
     "output_type": "execute_result"
    }
   ],
   "source": [
    "data.head()"
   ]
  },
  {
   "cell_type": "code",
   "execution_count": 70,
   "metadata": {},
   "outputs": [],
   "source": [
    "companies = data['company'].unique()\n",
    "by_company = [data[data.company == company] for company in companies]\n",
    "positives = []\n",
    "negatives = []\n",
    "for data_com in by_company:\n",
    "    data_com = data_com.sort_values('playlist_sample')\n",
    "    last_pl = int(data_com.tail(1).playlist_sample)\n",
    "    df_last_pl= data_com.query('playlist_sample == '+str(last_pl))\n",
    "    positives.append(df_last_pl)\n",
    "    pos_loc = pd.DataFrame({}, columns=data_com.columns)\n",
    "    for index, row in data_com[data_com.playlist_sample<last_pl].iterrows(): \n",
    "        if not ((df_last_pl['artist'] == row['artist']) & (df_last_pl['song'] ==  row['song'])).any():\n",
    "            pos_loc= pos_loc.append(row, ignore_index=True)\n",
    "    negatives.append(pos_loc)"
   ]
  },
  {
   "cell_type": "code",
   "execution_count": 80,
   "metadata": {
    "scrolled": true
   },
   "outputs": [
    {
     "name": "stdout",
     "output_type": "stream",
     "text": [
      "Arte Francés\n",
      "Negatives:  95.0\n",
      "Positives:  29.0\n",
      "Total:  147.0\n",
      "Club De Banqueros y Empresarios\n",
      "Negatives:  61.0\n",
      "Positives:  24.0\n",
      "Total:  88.0\n",
      "Gramma\n",
      "Negatives:  82.0\n",
      "Positives:  21.0\n",
      "Total:  103.0\n",
      "Hotel Marrakech\n",
      "Negatives:  42.0\n",
      "Positives:  20.0\n",
      "Total:  68.0\n",
      "Specialized\n",
      "Negatives:  38.0\n",
      "Positives:  35.0\n",
      "Total:  103.0\n",
      "Urban Place\n",
      "Negatives:  51.0\n",
      "Positives:  24.0\n",
      "Total:  85.0\n"
     ]
    }
   ],
   "source": [
    "for i in range(len(companies)):\n",
    "    print(companies[i])\n",
    "    print(\"Negatives: \",negatives[i].shape[0]/3)\n",
    "    print(\"Positives: \",positives[i].shape[0]/3)\n",
    "    print(\"Total: \", by_company[i].shape[0]/3)"
   ]
  },
  {
   "cell_type": "code",
   "execution_count": 81,
   "metadata": {
    "scrolled": false
   },
   "outputs": [
    {
     "data": {
      "text/plain": [
       "<matplotlib.axes._subplots.AxesSubplot at 0x1da86a03ba8>"
      ]
     },
     "execution_count": 81,
     "metadata": {},
     "output_type": "execute_result"
    },
    {
     "data": {
      "image/png": "[encoded data removed]",
      "text/plain": [
       "<Figure size 432x288 with 1 Axes>"
      ]
     },
     "metadata": {
      "needs_background": "light"
     },
     "output_type": "display_data"
    }
   ],
   "source": [
    "negatives[0]['chosen']=0\n",
    "positives[0]['chosen']=1\n",
    "df_n_p = negatives[0].append(positives[0])"
   ]
  },
  {
   "cell_type": "code",
   "execution_count": 134,
   "metadata": {},
   "outputs": [
    {
     "name": "stdout",
     "output_type": "stream",
     "text": [
      "p0 = 0.130854\n",
      "p1 = 0.70086\n"
     ]
    }
   ],
   "source": [
    "from scipy import stats"
   ]
  },
  {
   "cell_type": "code",
   "execution_count": 121,
   "metadata": {},
   "outputs": [
    {
     "name": "stdout",
     "output_type": "stream",
     "text": [
      "mfccfiles_2\n",
      "Multiple Comparison of Means - Tukey HSD,FWER=0.05\n",
      "===========================================\n",
      "group1 group2 meandiff lower  upper  reject\n",
      "-------------------------------------------\n",
      "  0      1     0.103   0.0039 0.2021  True \n",
      "-------------------------------------------\n",
      "mfccfiles_6\n",
      "Multiple Comparison of Means - Tukey HSD,FWER=0.05\n",
      "===========================================\n",
      "group1 group2 meandiff lower  upper  reject\n",
      "-------------------------------------------\n",
      "  0      1      0.09   0.0471 0.1328  True \n",
      "-------------------------------------------\n",
      "mfccfiles_8\n",
      "Multiple Comparison of Means - Tukey HSD,FWER=0.05\n",
      "===========================================\n",
      "group1 group2 meandiff lower  upper  reject\n",
      "-------------------------------------------\n",
      "  0      1     0.0369  0.0023 0.0715  True \n",
      "-------------------------------------------\n",
      "mfccfiles_11\n",
      "Multiple Comparison of Means - Tukey HSD,FWER=0.05\n",
      "============================================\n",
      "group1 group2 meandiff lower   upper  reject\n",
      "--------------------------------------------\n",
      "  0      1    -0.0378  -0.065 -0.0107  True \n",
      "--------------------------------------------\n",
      "keyclarityfiles\n",
      "Multiple Comparison of Means - Tukey HSD,FWER=0.05\n",
      "===========================================\n",
      "group1 group2 meandiff lower  upper  reject\n",
      "-------------------------------------------\n",
      "  0      1     0.0734  0.0323 0.1146  True \n",
      "-------------------------------------------\n"
     ]
    },
    {
     "data": {
      "image/png": "[encoded data removed]",
      "text/plain": [
       "<Figure size 432x288 with 1 Axes>"
      ]
     },
     "metadata": {
      "needs_background": "light"
     },
     "output_type": "display_data"
    },
    {
     "data": {
      "image/png": "[encoded data removed]",
      "text/plain": [
       "<Figure size 432x288 with 1 Axes>"
      ]
     },
     "metadata": {
      "needs_background": "light"
     },
     "output_type": "display_data"
    },
    {
     "data": {
      "image/png": "[encoded data removed]",
      "text/plain": [
       "<Figure size 432x288 with 1 Axes>"
      ]
     },
     "metadata": {
      "needs_background": "light"
     },
     "output_type": "display_data"
    },
    {
     "data": {
      "image/png": "[encoded data removed]",
      "text/plain": [
       "<Figure size 432x288 with 1 Axes>"
      ]
     },
     "metadata": {
      "needs_background": "light"
     },
     "output_type": "display_data"
    },
    {
     "data": {
      "image/png": "[encoded data removed]",
      "text/plain": [
       "<Figure size 432x288 with 1 Axes>"
      ]
     },
     "metadata": {
      "needs_background": "light"
     },
     "output_type": "display_data"
    }
   ],
   "source": [
    "for index in range(10,df_n_p.shape[1]-1):\n",
    "    values = df_n_p.iloc[: , index].values.astype('float')\n",
    "    values1 = df_n_p[df_n_p.chosen==1].iloc[: , 11].values.astype('float')\n",
    "    values0 = df_n_p[df_n_p.chosen==0].iloc[: , 11].values.astype('float')\n",
    "    k2, p1 = stats.normaltest(values1)\n",
    "    k2, p0 = stats.normaltest(values0)\n",
    "    mc = MultiComparison(, df_n_p['chosen'])\n",
    "    mc_results = mc.tukeyhsd()\n",
    "    if mc_results._results_table.data[1:][0][5]:\n",
    "        name= df_n_p.columns.values[index]\n",
    "        print(name)\n",
    "        print(mc_results)\n",
    "        df_n_p.boxplot(name, by='chosen')"
   ]
  },
  {
   "cell_type": "code",
   "execution_count": null,
   "metadata": {},
   "outputs": [],
   "source": []
  }
 ],
 "metadata": {
  "kernelspec": {
   "display_name": "Python 3",
   "language": "python",
   "name": "python3"
  },
  "language_info": {
   "codemirror_mode": {
    "name": "ipython",
    "version": 3
   },
   "file_extension": ".py",
   "mimetype": "text/x-python",
   "name": "python",
   "nbconvert_exporter": "python",
   "pygments_lexer": "ipython3",
   "version": "3.7.0"
  }
 },
 "nbformat": 4,
 "nbformat_minor": 2
}
