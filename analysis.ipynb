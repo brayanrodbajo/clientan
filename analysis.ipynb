{
 "cells": [
  {
   "cell_type": "markdown",
   "metadata": {},
   "source": [
    "# Playlists Analysis"
   ]
  },
  {
   "cell_type": "code",
   "execution_count": 2,
   "metadata": {},
   "outputs": [],
   "source": [
    "%matplotlib inline\n",
    "import pandas as pd \n",
    "import numpy as np\n",
    "from statsmodels.stats.multicomp import pairwise_tukeyhsd\n",
    "from statsmodels.stats.multicomp import MultiComparison\n",
    "from statsmodels.formula.api import ols\n",
    "from scipy import stats"
   ]
  },
  {
   "cell_type": "code",
   "execution_count": 3,
   "metadata": {},
   "outputs": [],
   "source": [
    "data = pd.read_csv(\"playlists.csv\", sep=\";\", encoding = \"ISO-8859-1\") "
   ]
  },
  {
   "cell_type": "code",
   "execution_count": 4,
   "metadata": {},
   "outputs": [
    {
     "data": {
      "text/plain": [
       "(1782, 64)"
      ]
     },
     "execution_count": 4,
     "metadata": {},
     "output_type": "execute_result"
    }
   ],
   "source": [
    "data.shape"
   ]
  },
  {
   "cell_type": "markdown",
   "metadata": {},
   "source": [
    "Data extracted."
   ]
  },
  {
   "cell_type": "code",
   "execution_count": 27,
   "metadata": {},
   "outputs": [
    {
     "data": {
      "text/plain": [
       "Index(['company', 'playlist_sample', 'namesfiles', 'no', 'artist', 'song',\n",
       "       'sampleratefiles', 'totalsamplesfiles', 'durationfiles', 'bitratefiles',\n",
       "       'rmsfiles', 'rmsmedianfiles', 'lowenergyfiles', 'ASRfiles',\n",
       "       'beatspectrumfiles', 'eventdensityfiles', 'tempofiles',\n",
       "       'pulseclarityfiles', 'zerocrossfiles', 'rolloffsfiles',\n",
       "       'brightnessfiles', 'spreadfiles', 'centroidfiles', 'kurtosisfiles',\n",
       "       'flatnessfiles', 'entropyfiles', 'mfccfiles_1', 'mfccfiles_2',\n",
       "       'mfccfiles_3', 'mfccfiles_4', 'mfccfiles_5', 'mfccfiles_6',\n",
       "       'mfccfiles_7', 'mfccfiles_8', 'mfccfiles_9', 'mfccfiles_10',\n",
       "       'mfccfiles_11', 'mfccfiles_12', 'mfccfiles_13', 'pitchfiles',\n",
       "       'inharmonicityfiles', 'bestkeyfiles', 'keyclarityfiles',\n",
       "       'modalityfiles', 'tonalcentroidfiles_1', 'tonalcentroidfiles_2',\n",
       "       'tonalcentroidfiles_3', 'tonalcentroidfiles_4', 'tonalcentroidfiles_5',\n",
       "       'tonalcentroidfiles_6', 'chromagramfiles_1', 'chromagramfiles_2',\n",
       "       'chromagramfiles_3', 'chromagramfiles_4', 'chromagramfiles_5',\n",
       "       'chromagramfiles_6', 'chromagramfiles_7', 'chromagramfiles_8',\n",
       "       'chromagramfiles_9', 'chromagramfiles_10', 'chromagramfiles_11',\n",
       "       'chromagramfiles_12', 'attackslopefiles', 'attackleapfiles'],\n",
       "      dtype='object')"
      ]
     },
     "execution_count": 27,
     "metadata": {},
     "output_type": "execute_result"
    }
   ],
   "source": [
    "data.columns"
   ]
  },
  {
   "cell_type": "code",
   "execution_count": 28,
   "metadata": {},
   "outputs": [
    {
     "data": {
      "text/html": [
       "<div>\n",
       "<style scoped>\n",
       "    .dataframe tbody tr th:only-of-type {\n",
       "        vertical-align: middle;\n",
       "    }\n",
       "\n",
       "    .dataframe tbody tr th {\n",
       "        vertical-align: top;\n",
       "    }\n",
       "\n",
       "    .dataframe thead th {\n",
       "        text-align: right;\n",
       "    }\n",
       "</style>\n",
       "<table border=\"1\" class=\"dataframe\">\n",
       "  <thead>\n",
       "    <tr style=\"text-align: right;\">\n",
       "      <th></th>\n",
       "      <th>company</th>\n",
       "      <th>playlist_sample</th>\n",
       "      <th>namesfiles</th>\n",
       "      <th>no</th>\n",
       "      <th>artist</th>\n",
       "      <th>song</th>\n",
       "      <th>sampleratefiles</th>\n",
       "      <th>totalsamplesfiles</th>\n",
       "      <th>durationfiles</th>\n",
       "      <th>bitratefiles</th>\n",
       "      <th>...</th>\n",
       "      <th>chromagramfiles_5</th>\n",
       "      <th>chromagramfiles_6</th>\n",
       "      <th>chromagramfiles_7</th>\n",
       "      <th>chromagramfiles_8</th>\n",
       "      <th>chromagramfiles_9</th>\n",
       "      <th>chromagramfiles_10</th>\n",
       "      <th>chromagramfiles_11</th>\n",
       "      <th>chromagramfiles_12</th>\n",
       "      <th>attackslopefiles</th>\n",
       "      <th>attackleapfiles</th>\n",
       "    </tr>\n",
       "  </thead>\n",
       "  <tbody>\n",
       "    <tr>\n",
       "      <th>count</th>\n",
       "      <td>1782</td>\n",
       "      <td>1782.000000</td>\n",
       "      <td>1782</td>\n",
       "      <td>1782.000000</td>\n",
       "      <td>1782</td>\n",
       "      <td>1782</td>\n",
       "      <td>1782.0</td>\n",
       "      <td>1.782000e+03</td>\n",
       "      <td>1782.000000</td>\n",
       "      <td>1782.000000</td>\n",
       "      <td>...</td>\n",
       "      <td>1782.000000</td>\n",
       "      <td>1782.000000</td>\n",
       "      <td>1782.000000</td>\n",
       "      <td>1782.000000</td>\n",
       "      <td>1782.000000</td>\n",
       "      <td>1782.000000</td>\n",
       "      <td>1782.000000</td>\n",
       "      <td>1782.000000</td>\n",
       "      <td>1782.000000</td>\n",
       "      <td>1782.000000</td>\n",
       "    </tr>\n",
       "    <tr>\n",
       "      <th>unique</th>\n",
       "      <td>6</td>\n",
       "      <td>NaN</td>\n",
       "      <td>515</td>\n",
       "      <td>NaN</td>\n",
       "      <td>353</td>\n",
       "      <td>443</td>\n",
       "      <td>NaN</td>\n",
       "      <td>NaN</td>\n",
       "      <td>NaN</td>\n",
       "      <td>NaN</td>\n",
       "      <td>...</td>\n",
       "      <td>NaN</td>\n",
       "      <td>NaN</td>\n",
       "      <td>NaN</td>\n",
       "      <td>NaN</td>\n",
       "      <td>NaN</td>\n",
       "      <td>NaN</td>\n",
       "      <td>NaN</td>\n",
       "      <td>NaN</td>\n",
       "      <td>NaN</td>\n",
       "      <td>NaN</td>\n",
       "    </tr>\n",
       "    <tr>\n",
       "      <th>top</th>\n",
       "      <td>Arte Francés</td>\n",
       "      <td>NaN</td>\n",
       "      <td>18 - Minimatic - No Swinggity.mp3             ...</td>\n",
       "      <td>NaN</td>\n",
       "      <td>Satin Jackets</td>\n",
       "      <td>Hula Hoop.mp3                                ...</td>\n",
       "      <td>NaN</td>\n",
       "      <td>NaN</td>\n",
       "      <td>NaN</td>\n",
       "      <td>NaN</td>\n",
       "      <td>...</td>\n",
       "      <td>NaN</td>\n",
       "      <td>NaN</td>\n",
       "      <td>NaN</td>\n",
       "      <td>NaN</td>\n",
       "      <td>NaN</td>\n",
       "      <td>NaN</td>\n",
       "      <td>NaN</td>\n",
       "      <td>NaN</td>\n",
       "      <td>NaN</td>\n",
       "      <td>NaN</td>\n",
       "    </tr>\n",
       "    <tr>\n",
       "      <th>freq</th>\n",
       "      <td>441</td>\n",
       "      <td>NaN</td>\n",
       "      <td>6</td>\n",
       "      <td>NaN</td>\n",
       "      <td>51</td>\n",
       "      <td>12</td>\n",
       "      <td>NaN</td>\n",
       "      <td>NaN</td>\n",
       "      <td>NaN</td>\n",
       "      <td>NaN</td>\n",
       "      <td>...</td>\n",
       "      <td>NaN</td>\n",
       "      <td>NaN</td>\n",
       "      <td>NaN</td>\n",
       "      <td>NaN</td>\n",
       "      <td>NaN</td>\n",
       "      <td>NaN</td>\n",
       "      <td>NaN</td>\n",
       "      <td>NaN</td>\n",
       "      <td>NaN</td>\n",
       "      <td>NaN</td>\n",
       "    </tr>\n",
       "    <tr>\n",
       "      <th>mean</th>\n",
       "      <td>NaN</td>\n",
       "      <td>2.084175</td>\n",
       "      <td>NaN</td>\n",
       "      <td>17.116162</td>\n",
       "      <td>NaN</td>\n",
       "      <td>NaN</td>\n",
       "      <td>44100.0</td>\n",
       "      <td>1.043632e+07</td>\n",
       "      <td>236.651237</td>\n",
       "      <td>252.336700</td>\n",
       "      <td>...</td>\n",
       "      <td>0.332301</td>\n",
       "      <td>0.319191</td>\n",
       "      <td>0.265246</td>\n",
       "      <td>0.440462</td>\n",
       "      <td>0.549565</td>\n",
       "      <td>0.581967</td>\n",
       "      <td>0.477825</td>\n",
       "      <td>0.430522</td>\n",
       "      <td>15.804409</td>\n",
       "      <td>0.507503</td>\n",
       "    </tr>\n",
       "    <tr>\n",
       "      <th>std</th>\n",
       "      <td>NaN</td>\n",
       "      <td>1.114796</td>\n",
       "      <td>NaN</td>\n",
       "      <td>11.837401</td>\n",
       "      <td>NaN</td>\n",
       "      <td>NaN</td>\n",
       "      <td>0.0</td>\n",
       "      <td>3.227105e+06</td>\n",
       "      <td>73.176981</td>\n",
       "      <td>88.377597</td>\n",
       "      <td>...</td>\n",
       "      <td>0.270616</td>\n",
       "      <td>0.263919</td>\n",
       "      <td>0.249612</td>\n",
       "      <td>0.290454</td>\n",
       "      <td>0.314771</td>\n",
       "      <td>0.323173</td>\n",
       "      <td>0.321646</td>\n",
       "      <td>0.295563</td>\n",
       "      <td>9.338659</td>\n",
       "      <td>0.247587</td>\n",
       "    </tr>\n",
       "    <tr>\n",
       "      <th>min</th>\n",
       "      <td>NaN</td>\n",
       "      <td>1.000000</td>\n",
       "      <td>NaN</td>\n",
       "      <td>1.000000</td>\n",
       "      <td>NaN</td>\n",
       "      <td>NaN</td>\n",
       "      <td>44100.0</td>\n",
       "      <td>5.965054e+06</td>\n",
       "      <td>135.262000</td>\n",
       "      <td>128.000000</td>\n",
       "      <td>...</td>\n",
       "      <td>0.000000</td>\n",
       "      <td>0.000000</td>\n",
       "      <td>0.000000</td>\n",
       "      <td>0.000000</td>\n",
       "      <td>0.000000</td>\n",
       "      <td>0.000000</td>\n",
       "      <td>0.000000</td>\n",
       "      <td>0.000000</td>\n",
       "      <td>0.000000</td>\n",
       "      <td>0.168304</td>\n",
       "    </tr>\n",
       "    <tr>\n",
       "      <th>25%</th>\n",
       "      <td>NaN</td>\n",
       "      <td>1.000000</td>\n",
       "      <td>NaN</td>\n",
       "      <td>8.000000</td>\n",
       "      <td>NaN</td>\n",
       "      <td>NaN</td>\n",
       "      <td>44100.0</td>\n",
       "      <td>8.353151e+06</td>\n",
       "      <td>189.413850</td>\n",
       "      <td>128.000000</td>\n",
       "      <td>...</td>\n",
       "      <td>0.116591</td>\n",
       "      <td>0.109123</td>\n",
       "      <td>0.075378</td>\n",
       "      <td>0.204738</td>\n",
       "      <td>0.301961</td>\n",
       "      <td>0.316822</td>\n",
       "      <td>0.214680</td>\n",
       "      <td>0.203097</td>\n",
       "      <td>9.810711</td>\n",
       "      <td>0.285584</td>\n",
       "    </tr>\n",
       "    <tr>\n",
       "      <th>50%</th>\n",
       "      <td>NaN</td>\n",
       "      <td>2.000000</td>\n",
       "      <td>NaN</td>\n",
       "      <td>15.500000</td>\n",
       "      <td>NaN</td>\n",
       "      <td>NaN</td>\n",
       "      <td>44100.0</td>\n",
       "      <td>9.480378e+06</td>\n",
       "      <td>214.974562</td>\n",
       "      <td>320.000000</td>\n",
       "      <td>...</td>\n",
       "      <td>0.262799</td>\n",
       "      <td>0.259887</td>\n",
       "      <td>0.183082</td>\n",
       "      <td>0.396861</td>\n",
       "      <td>0.520957</td>\n",
       "      <td>0.570088</td>\n",
       "      <td>0.418077</td>\n",
       "      <td>0.379737</td>\n",
       "      <td>14.833864</td>\n",
       "      <td>0.452456</td>\n",
       "    </tr>\n",
       "    <tr>\n",
       "      <th>75%</th>\n",
       "      <td>NaN</td>\n",
       "      <td>3.000000</td>\n",
       "      <td>NaN</td>\n",
       "      <td>24.000000</td>\n",
       "      <td>NaN</td>\n",
       "      <td>NaN</td>\n",
       "      <td>44100.0</td>\n",
       "      <td>1.146931e+07</td>\n",
       "      <td>260.075075</td>\n",
       "      <td>320.000000</td>\n",
       "      <td>...</td>\n",
       "      <td>0.494897</td>\n",
       "      <td>0.469603</td>\n",
       "      <td>0.384485</td>\n",
       "      <td>0.642814</td>\n",
       "      <td>0.829318</td>\n",
       "      <td>0.918554</td>\n",
       "      <td>0.735384</td>\n",
       "      <td>0.616558</td>\n",
       "      <td>19.964413</td>\n",
       "      <td>0.730669</td>\n",
       "    </tr>\n",
       "    <tr>\n",
       "      <th>max</th>\n",
       "      <td>NaN</td>\n",
       "      <td>5.000000</td>\n",
       "      <td>NaN</td>\n",
       "      <td>65.000000</td>\n",
       "      <td>NaN</td>\n",
       "      <td>NaN</td>\n",
       "      <td>44100.0</td>\n",
       "      <td>2.843136e+07</td>\n",
       "      <td>644.702000</td>\n",
       "      <td>320.000000</td>\n",
       "      <td>...</td>\n",
       "      <td>1.000000</td>\n",
       "      <td>1.000000</td>\n",
       "      <td>1.000000</td>\n",
       "      <td>1.000000</td>\n",
       "      <td>1.000000</td>\n",
       "      <td>1.000000</td>\n",
       "      <td>1.000000</td>\n",
       "      <td>1.000000</td>\n",
       "      <td>66.233620</td>\n",
       "      <td>0.999408</td>\n",
       "    </tr>\n",
       "  </tbody>\n",
       "</table>\n",
       "<p>11 rows × 64 columns</p>\n",
       "</div>"
      ],
      "text/plain": [
       "             company  playlist_sample  \\\n",
       "count           1782      1782.000000   \n",
       "unique             6              NaN   \n",
       "top     Arte Francés              NaN   \n",
       "freq             441              NaN   \n",
       "mean             NaN         2.084175   \n",
       "std              NaN         1.114796   \n",
       "min              NaN         1.000000   \n",
       "25%              NaN         1.000000   \n",
       "50%              NaN         2.000000   \n",
       "75%              NaN         3.000000   \n",
       "max              NaN         5.000000   \n",
       "\n",
       "                                               namesfiles           no  \\\n",
       "count                                                1782  1782.000000   \n",
       "unique                                                515          NaN   \n",
       "top     18 - Minimatic - No Swinggity.mp3             ...          NaN   \n",
       "freq                                                    6          NaN   \n",
       "mean                                                  NaN    17.116162   \n",
       "std                                                   NaN    11.837401   \n",
       "min                                                   NaN     1.000000   \n",
       "25%                                                   NaN     8.000000   \n",
       "50%                                                   NaN    15.500000   \n",
       "75%                                                   NaN    24.000000   \n",
       "max                                                   NaN    65.000000   \n",
       "\n",
       "                 artist                                               song  \\\n",
       "count              1782                                               1782   \n",
       "unique              353                                                443   \n",
       "top      Satin Jackets    Hula Hoop.mp3                                ...   \n",
       "freq                 51                                                 12   \n",
       "mean                NaN                                                NaN   \n",
       "std                 NaN                                                NaN   \n",
       "min                 NaN                                                NaN   \n",
       "25%                 NaN                                                NaN   \n",
       "50%                 NaN                                                NaN   \n",
       "75%                 NaN                                                NaN   \n",
       "max                 NaN                                                NaN   \n",
       "\n",
       "        sampleratefiles  totalsamplesfiles  durationfiles  bitratefiles  \\\n",
       "count            1782.0       1.782000e+03    1782.000000   1782.000000   \n",
       "unique              NaN                NaN            NaN           NaN   \n",
       "top                 NaN                NaN            NaN           NaN   \n",
       "freq                NaN                NaN            NaN           NaN   \n",
       "mean            44100.0       1.043632e+07     236.651237    252.336700   \n",
       "std                 0.0       3.227105e+06      73.176981     88.377597   \n",
       "min             44100.0       5.965054e+06     135.262000    128.000000   \n",
       "25%             44100.0       8.353151e+06     189.413850    128.000000   \n",
       "50%             44100.0       9.480378e+06     214.974562    320.000000   \n",
       "75%             44100.0       1.146931e+07     260.075075    320.000000   \n",
       "max             44100.0       2.843136e+07     644.702000    320.000000   \n",
       "\n",
       "             ...         chromagramfiles_5  chromagramfiles_6  \\\n",
       "count        ...               1782.000000        1782.000000   \n",
       "unique       ...                       NaN                NaN   \n",
       "top          ...                       NaN                NaN   \n",
       "freq         ...                       NaN                NaN   \n",
       "mean         ...                  0.332301           0.319191   \n",
       "std          ...                  0.270616           0.263919   \n",
       "min          ...                  0.000000           0.000000   \n",
       "25%          ...                  0.116591           0.109123   \n",
       "50%          ...                  0.262799           0.259887   \n",
       "75%          ...                  0.494897           0.469603   \n",
       "max          ...                  1.000000           1.000000   \n",
       "\n",
       "        chromagramfiles_7  chromagramfiles_8  chromagramfiles_9  \\\n",
       "count         1782.000000        1782.000000        1782.000000   \n",
       "unique                NaN                NaN                NaN   \n",
       "top                   NaN                NaN                NaN   \n",
       "freq                  NaN                NaN                NaN   \n",
       "mean             0.265246           0.440462           0.549565   \n",
       "std              0.249612           0.290454           0.314771   \n",
       "min              0.000000           0.000000           0.000000   \n",
       "25%              0.075378           0.204738           0.301961   \n",
       "50%              0.183082           0.396861           0.520957   \n",
       "75%              0.384485           0.642814           0.829318   \n",
       "max              1.000000           1.000000           1.000000   \n",
       "\n",
       "        chromagramfiles_10  chromagramfiles_11  chromagramfiles_12  \\\n",
       "count          1782.000000         1782.000000         1782.000000   \n",
       "unique                 NaN                 NaN                 NaN   \n",
       "top                    NaN                 NaN                 NaN   \n",
       "freq                   NaN                 NaN                 NaN   \n",
       "mean              0.581967            0.477825            0.430522   \n",
       "std               0.323173            0.321646            0.295563   \n",
       "min               0.000000            0.000000            0.000000   \n",
       "25%               0.316822            0.214680            0.203097   \n",
       "50%               0.570088            0.418077            0.379737   \n",
       "75%               0.918554            0.735384            0.616558   \n",
       "max               1.000000            1.000000            1.000000   \n",
       "\n",
       "        attackslopefiles  attackleapfiles  \n",
       "count        1782.000000      1782.000000  \n",
       "unique               NaN              NaN  \n",
       "top                  NaN              NaN  \n",
       "freq                 NaN              NaN  \n",
       "mean           15.804409         0.507503  \n",
       "std             9.338659         0.247587  \n",
       "min             0.000000         0.168304  \n",
       "25%             9.810711         0.285584  \n",
       "50%            14.833864         0.452456  \n",
       "75%            19.964413         0.730669  \n",
       "max            66.233620         0.999408  \n",
       "\n",
       "[11 rows x 64 columns]"
      ]
     },
     "execution_count": 28,
     "metadata": {},
     "output_type": "execute_result"
    }
   ],
   "source": [
    "data.describe(include=\"all\")"
   ]
  },
  {
   "cell_type": "code",
   "execution_count": 6,
   "metadata": {
    "scrolled": true
   },
   "outputs": [
    {
     "data": {
      "text/html": [
       "<div>\n",
       "<style scoped>\n",
       "    .dataframe tbody tr th:only-of-type {\n",
       "        vertical-align: middle;\n",
       "    }\n",
       "\n",
       "    .dataframe tbody tr th {\n",
       "        vertical-align: top;\n",
       "    }\n",
       "\n",
       "    .dataframe thead th {\n",
       "        text-align: right;\n",
       "    }\n",
       "</style>\n",
       "<table border=\"1\" class=\"dataframe\">\n",
       "  <thead>\n",
       "    <tr style=\"text-align: right;\">\n",
       "      <th></th>\n",
       "      <th>company</th>\n",
       "      <th>playlist_sample</th>\n",
       "      <th>namesfiles</th>\n",
       "      <th>no</th>\n",
       "      <th>artist</th>\n",
       "      <th>song</th>\n",
       "      <th>sampleratefiles</th>\n",
       "      <th>totalsamplesfiles</th>\n",
       "      <th>durationfiles</th>\n",
       "      <th>bitratefiles</th>\n",
       "      <th>...</th>\n",
       "      <th>chromagramfiles_5</th>\n",
       "      <th>chromagramfiles_6</th>\n",
       "      <th>chromagramfiles_7</th>\n",
       "      <th>chromagramfiles_8</th>\n",
       "      <th>chromagramfiles_9</th>\n",
       "      <th>chromagramfiles_10</th>\n",
       "      <th>chromagramfiles_11</th>\n",
       "      <th>chromagramfiles_12</th>\n",
       "      <th>attackslopefiles</th>\n",
       "      <th>attackleapfiles</th>\n",
       "    </tr>\n",
       "  </thead>\n",
       "  <tbody>\n",
       "    <tr>\n",
       "      <th>0</th>\n",
       "      <td>Arte Francés</td>\n",
       "      <td>4</td>\n",
       "      <td>01 - Klischee - Swing It Like Roger.mp3       ...</td>\n",
       "      <td>1</td>\n",
       "      <td>Klischee</td>\n",
       "      <td>Swing It Like Roger.mp3                      ...</td>\n",
       "      <td>44100</td>\n",
       "      <td>8672822</td>\n",
       "      <td>196.662625</td>\n",
       "      <td>320</td>\n",
       "      <td>...</td>\n",
       "      <td>0.088080</td>\n",
       "      <td>0.344721</td>\n",
       "      <td>0.000000</td>\n",
       "      <td>0.029990</td>\n",
       "      <td>0.000000</td>\n",
       "      <td>0.123955</td>\n",
       "      <td>0.999999</td>\n",
       "      <td>0.025801</td>\n",
       "      <td>17.573492</td>\n",
       "      <td>0.456036</td>\n",
       "    </tr>\n",
       "    <tr>\n",
       "      <th>1</th>\n",
       "      <td>Arte Francés</td>\n",
       "      <td>4</td>\n",
       "      <td>01 - Klischee - Swing It Like Roger.mp3       ...</td>\n",
       "      <td>1</td>\n",
       "      <td>Klischee</td>\n",
       "      <td>Swing It Like Roger.mp3                      ...</td>\n",
       "      <td>44100</td>\n",
       "      <td>8672822</td>\n",
       "      <td>196.662625</td>\n",
       "      <td>320</td>\n",
       "      <td>...</td>\n",
       "      <td>0.174508</td>\n",
       "      <td>0.340706</td>\n",
       "      <td>0.191612</td>\n",
       "      <td>0.860171</td>\n",
       "      <td>0.415158</td>\n",
       "      <td>0.372546</td>\n",
       "      <td>1.000000</td>\n",
       "      <td>0.333313</td>\n",
       "      <td>3.057561</td>\n",
       "      <td>0.258182</td>\n",
       "    </tr>\n",
       "    <tr>\n",
       "      <th>2</th>\n",
       "      <td>Arte Francés</td>\n",
       "      <td>4</td>\n",
       "      <td>01 - Klischee - Swing It Like Roger.mp3       ...</td>\n",
       "      <td>1</td>\n",
       "      <td>Klischee</td>\n",
       "      <td>Swing It Like Roger.mp3                      ...</td>\n",
       "      <td>44100</td>\n",
       "      <td>8672822</td>\n",
       "      <td>196.662625</td>\n",
       "      <td>320</td>\n",
       "      <td>...</td>\n",
       "      <td>0.151998</td>\n",
       "      <td>0.348799</td>\n",
       "      <td>0.194046</td>\n",
       "      <td>0.831852</td>\n",
       "      <td>0.582866</td>\n",
       "      <td>0.444389</td>\n",
       "      <td>1.000000</td>\n",
       "      <td>0.254364</td>\n",
       "      <td>20.069370</td>\n",
       "      <td>0.229477</td>\n",
       "    </tr>\n",
       "    <tr>\n",
       "      <th>3</th>\n",
       "      <td>Arte Francés</td>\n",
       "      <td>4</td>\n",
       "      <td>02 - Shazalakazoo - Sunny Side Of The Street.m...</td>\n",
       "      <td>2</td>\n",
       "      <td>Shazalakazoo</td>\n",
       "      <td>Sunny Side Of The Street.mp3                 ...</td>\n",
       "      <td>44100</td>\n",
       "      <td>11231507</td>\n",
       "      <td>254.682700</td>\n",
       "      <td>320</td>\n",
       "      <td>...</td>\n",
       "      <td>0.183869</td>\n",
       "      <td>0.046128</td>\n",
       "      <td>0.047070</td>\n",
       "      <td>0.103043</td>\n",
       "      <td>0.912696</td>\n",
       "      <td>1.000000</td>\n",
       "      <td>0.104921</td>\n",
       "      <td>0.131453</td>\n",
       "      <td>6.403050</td>\n",
       "      <td>0.169508</td>\n",
       "    </tr>\n",
       "    <tr>\n",
       "      <th>4</th>\n",
       "      <td>Arte Francés</td>\n",
       "      <td>4</td>\n",
       "      <td>02 - Shazalakazoo - Sunny Side Of The Street.m...</td>\n",
       "      <td>2</td>\n",
       "      <td>Shazalakazoo</td>\n",
       "      <td>Sunny Side Of The Street.mp3                 ...</td>\n",
       "      <td>44100</td>\n",
       "      <td>11231507</td>\n",
       "      <td>254.682700</td>\n",
       "      <td>320</td>\n",
       "      <td>...</td>\n",
       "      <td>0.179867</td>\n",
       "      <td>0.029339</td>\n",
       "      <td>0.036758</td>\n",
       "      <td>0.070648</td>\n",
       "      <td>0.916178</td>\n",
       "      <td>1.000000</td>\n",
       "      <td>0.090701</td>\n",
       "      <td>0.125767</td>\n",
       "      <td>10.845848</td>\n",
       "      <td>0.402227</td>\n",
       "    </tr>\n",
       "  </tbody>\n",
       "</table>\n",
       "<p>5 rows × 64 columns</p>\n",
       "</div>"
      ],
      "text/plain": [
       "        company  playlist_sample  \\\n",
       "0  Arte Francés                4   \n",
       "1  Arte Francés                4   \n",
       "2  Arte Francés                4   \n",
       "3  Arte Francés                4   \n",
       "4  Arte Francés                4   \n",
       "\n",
       "                                          namesfiles  no          artist  \\\n",
       "0  01 - Klischee - Swing It Like Roger.mp3       ...   1       Klischee    \n",
       "1  01 - Klischee - Swing It Like Roger.mp3       ...   1       Klischee    \n",
       "2  01 - Klischee - Swing It Like Roger.mp3       ...   1       Klischee    \n",
       "3  02 - Shazalakazoo - Sunny Side Of The Street.m...   2   Shazalakazoo    \n",
       "4  02 - Shazalakazoo - Sunny Side Of The Street.m...   2   Shazalakazoo    \n",
       "\n",
       "                                                song  sampleratefiles  \\\n",
       "0   Swing It Like Roger.mp3                      ...            44100   \n",
       "1   Swing It Like Roger.mp3                      ...            44100   \n",
       "2   Swing It Like Roger.mp3                      ...            44100   \n",
       "3   Sunny Side Of The Street.mp3                 ...            44100   \n",
       "4   Sunny Side Of The Street.mp3                 ...            44100   \n",
       "\n",
       "   totalsamplesfiles  durationfiles  bitratefiles       ...         \\\n",
       "0            8672822     196.662625           320       ...          \n",
       "1            8672822     196.662625           320       ...          \n",
       "2            8672822     196.662625           320       ...          \n",
       "3           11231507     254.682700           320       ...          \n",
       "4           11231507     254.682700           320       ...          \n",
       "\n",
       "   chromagramfiles_5  chromagramfiles_6  chromagramfiles_7  chromagramfiles_8  \\\n",
       "0           0.088080           0.344721           0.000000           0.029990   \n",
       "1           0.174508           0.340706           0.191612           0.860171   \n",
       "2           0.151998           0.348799           0.194046           0.831852   \n",
       "3           0.183869           0.046128           0.047070           0.103043   \n",
       "4           0.179867           0.029339           0.036758           0.070648   \n",
       "\n",
       "   chromagramfiles_9  chromagramfiles_10  chromagramfiles_11  \\\n",
       "0           0.000000            0.123955            0.999999   \n",
       "1           0.415158            0.372546            1.000000   \n",
       "2           0.582866            0.444389            1.000000   \n",
       "3           0.912696            1.000000            0.104921   \n",
       "4           0.916178            1.000000            0.090701   \n",
       "\n",
       "   chromagramfiles_12  attackslopefiles  attackleapfiles  \n",
       "0            0.025801         17.573492         0.456036  \n",
       "1            0.333313          3.057561         0.258182  \n",
       "2            0.254364         20.069370         0.229477  \n",
       "3            0.131453          6.403050         0.169508  \n",
       "4            0.125767         10.845848         0.402227  \n",
       "\n",
       "[5 rows x 64 columns]"
      ]
     },
     "execution_count": 6,
     "metadata": {},
     "output_type": "execute_result"
    }
   ],
   "source": [
    "data.head()"
   ]
  },
  {
   "cell_type": "markdown",
   "metadata": {},
   "source": [
    "Find positives and negatives songs of the process for every company."
   ]
  },
  {
   "cell_type": "code",
   "execution_count": 25,
   "metadata": {},
   "outputs": [
    {
     "data": {
      "image/png": "[encoded data removed]",
      "text/plain": [
       "<Figure size 432x288 with 1 Axes>"
      ]
     },
     "metadata": {
      "needs_background": "light"
     },
     "output_type": "display_data"
    },
    {
     "data": {
      "image/png": "[encoded data removed]",
      "text/plain": [
       "<Figure size 432x288 with 1 Axes>"
      ]
     },
     "metadata": {
      "needs_background": "light"
     },
     "output_type": "display_data"
    },
    {
     "data": {
      "image/png": "[encoded data removed]",
      "text/plain": [
       "<Figure size 432x288 with 1 Axes>"
      ]
     },
     "metadata": {
      "needs_background": "light"
     },
     "output_type": "display_data"
    },
    {
     "data": {
      "image/png": "[encoded data removed]",
      "text/plain": [
       "<Figure size 432x288 with 1 Axes>"
      ]
     },
     "metadata": {
      "needs_background": "light"
     },
     "output_type": "display_data"
    },
    {
     "data": {
      "image/png": "[encoded data removed]",
      "text/plain": [
       "<Figure size 432x288 with 1 Axes>"
      ]
     },
     "metadata": {
      "needs_background": "light"
     },
     "output_type": "display_data"
    },
    {
     "data": {
      "image/png": "[encoded data removed]",
      "text/plain": [
       "<Figure size 432x288 with 1 Axes>"
      ]
     },
     "metadata": {
      "needs_background": "light"
     },
     "output_type": "display_data"
    },
    {
     "data": {
      "image/png": "[encoded data removed]",
      "text/plain": [
       "<Figure size 432x288 with 1 Axes>"
      ]
     },
     "metadata": {
      "needs_background": "light"
     },
     "output_type": "display_data"
    },
    {
     "data": {
      "image/png": "[encoded data removed]",
      "text/plain": [
       "<Figure size 432x288 with 1 Axes>"
      ]
     },
     "metadata": {
      "needs_background": "light"
     },
     "output_type": "display_data"
    },
    {
     "data": {
      "image/png": "[encoded data removed]",
      "text/plain": [
       "<Figure size 432x288 with 1 Axes>"
      ]
     },
     "metadata": {
      "needs_background": "light"
     },
     "output_type": "display_data"
    },
    {
     "data": {
      "image/png": "[encoded data removed]",
      "text/plain": [
       "<Figure size 432x288 with 1 Axes>"
      ]
     },
     "metadata": {
      "needs_background": "light"
     },
     "output_type": "display_data"
    },
    {
     "data": {
      "image/png": "[encoded data removed]",
      "text/plain": [
       "<Figure size 432x288 with 1 Axes>"
      ]
     },
     "metadata": {
      "needs_background": "light"
     },
     "output_type": "display_data"
    },
    {
     "data": {
      "image/png": "[encoded data removed]",
      "text/plain": [
       "<Figure size 432x288 with 1 Axes>"
      ]
     },
     "metadata": {
      "needs_background": "light"
     },
     "output_type": "display_data"
    }
   ],
   "source": [
    "companies = data['company'].unique()\n",
    "by_company = [data[data.company == company] for company in companies]\n",
    "positives = []\n",
    "negatives = []\n",
    "for data_com in by_company:\n",
    "    data_com = data_com.sort_values('playlist_sample')\n",
    "    last_pl = int(data_com.tail(1).playlist_sample)\n",
    "    pls = pd.DataFrame({'pl':range (1,last_pl+1), 'old':[0]*last_pl, 'new':[0]*last_pl})\n",
    "    pls.new[0]=(data_com.query('playlist_sample == '+str(1)).shape[0])/3\n",
    "    for i in range(2,last_pl+1):\n",
    "        curr_pl = data_com.query('playlist_sample == '+str(i))\n",
    "        pre_pl = data_com.query('playlist_sample == '+str(i-1))\n",
    "        olds = curr_pl['song'].map(pre_pl['song'].value_counts()).sum(axis = 0)/3\n",
    "        pls.old[i-1]= olds/3 \n",
    "        pls.new[i-1]=(curr_pl.shape[0]-olds)/3\n",
    "    pls[['old','new']].plot(kind='bar', stacked=True, title=data_com.iloc[0,0])\n",
    "    df_last_pl= data_com.query('playlist_sample == '+str(last_pl))\n",
    "    positives.append(df_last_pl)\n",
    "    pos_loc = pd.DataFrame({}, columns=data_com.columns)\n",
    "    for index, row in data_com[data_com.playlist_sample<last_pl].iterrows(): \n",
    "        if not ((df_last_pl['artist'] == row['artist']) & (df_last_pl['song'] ==  row['song'])).any():\n",
    "            pos_loc= pos_loc.append(row, ignore_index=True)\n",
    "    n_vs_p = pd.DataFrame({'sam':['pos', 'neg'],'num':[df_last_pl.shape[0]/3,pos_loc.shape[0]/3]})\n",
    "    n_vs_p.plot.bar(x='sam', y='num', rot=0, title=data_com.iloc[0,0])\n",
    "    negatives.append(pos_loc)"
   ]
  },
  {
   "cell_type": "markdown",
   "metadata": {},
   "source": [
    "Count of positives negatives and total by company."
   ]
  },
  {
   "cell_type": "code",
   "execution_count": 80,
   "metadata": {
    "scrolled": true
   },
   "outputs": [
    {
     "name": "stdout",
     "output_type": "stream",
     "text": [
      "Arte Francés\n",
      "Negatives:  95.0\n",
      "Positives:  29.0\n",
      "Total:  147.0\n",
      "Club De Banqueros y Empresarios\n",
      "Negatives:  61.0\n",
      "Positives:  24.0\n",
      "Total:  88.0\n",
      "Gramma\n",
      "Negatives:  82.0\n",
      "Positives:  21.0\n",
      "Total:  103.0\n",
      "Hotel Marrakech\n",
      "Negatives:  42.0\n",
      "Positives:  20.0\n",
      "Total:  68.0\n",
      "Specialized\n",
      "Negatives:  38.0\n",
      "Positives:  35.0\n",
      "Total:  103.0\n",
      "Urban Place\n",
      "Negatives:  51.0\n",
      "Positives:  24.0\n",
      "Total:  85.0\n"
     ]
    }
   ],
   "source": [
    "for i in range(len(companies)):\n",
    "    print(companies[i])\n",
    "    print(\"Negatives: \",negatives[i].shape[0]/3)\n",
    "    print(\"Positives: \",positives[i].shape[0]/3)\n",
    "    print(\"Total: \", by_company[i].shape[0]/3)"
   ]
  },
  {
   "cell_type": "markdown",
   "metadata": {},
   "source": [
    "Append the positives and negatives records with a new column \"chosen\" that takes value of 1 if is chosen."
   ]
  },
  {
   "cell_type": "code",
   "execution_count": 156,
   "metadata": {
    "scrolled": false
   },
   "outputs": [
    {
     "name": "stderr",
     "output_type": "stream",
     "text": [
      "D:\\Usuarios\\1144084318\\AppData\\Roaming\\Python\\Python37\\site-packages\\ipykernel_launcher.py:4: SettingWithCopyWarning: \n",
      "A value is trying to be set on a copy of a slice from a DataFrame.\n",
      "Try using .loc[row_indexer,col_indexer] = value instead\n",
      "\n",
      "See the caveats in the documentation: http://pandas.pydata.org/pandas-docs/stable/indexing.html#indexing-view-versus-copy\n",
      "  after removing the cwd from sys.path.\n"
     ]
    }
   ],
   "source": [
    "df_n_ps = []\n",
    "for i in range(len(negatives)):\n",
    "    negatives[i]['chosen']=0\n",
    "    positives[i]['chosen']=1\n",
    "    df_n_ps.append(negatives[i].append(positives[i]))"
   ]
  },
  {
   "cell_type": "markdown",
   "metadata": {},
   "source": [
    "## ANOVA"
   ]
  },
  {
   "cell_type": "markdown",
   "metadata": {},
   "source": [
    "Shows regression results for post hoc tukey comparison p values lesser than 0.05. After that, it shows the homogeneity of variance and normality tests (which are assumptions of Anova test). "
   ]
  },
  {
   "cell_type": "code",
   "execution_count": 173,
   "metadata": {
    "scrolled": true
   },
   "outputs": [
    {
     "name": "stdout",
     "output_type": "stream",
     "text": [
      "****************************************************************************\n",
      "Arte Francés\n",
      "mfccfiles_2\n",
      "mfccfiles_6\n",
      "mfccfiles_8\n",
      "mfccfiles_11\n",
      "keyclarityfiles\n",
      "****************************************************************************\n",
      "Club De Banqueros y Empresarios\n",
      "lowenergyfiles\n",
      "tempofiles\n",
      "pulseclarityfiles\n",
      "zerocrossfiles\n",
      "brightnessfiles\n",
      "                            OLS Regression Results                            \n",
      "==============================================================================\n",
      "Dep. Variable:        brightnessfiles   R-squared:                       0.148\n",
      "Model:                            OLS   Adj. R-squared:                  0.144\n",
      "Method:                 Least Squares   F-statistic:                     43.84\n",
      "Date:                Mon, 23 Sep 2019   Prob (F-statistic):           2.12e-10\n",
      "Time:                        14:56:44   Log-Likelihood:                 226.10\n",
      "No. Observations:                 255   AIC:                            -448.2\n",
      "Df Residuals:                     253   BIC:                            -441.1\n",
      "Df Model:                           1                                         \n",
      "Covariance Type:            nonrobust                                         \n",
      "==================================================================================\n",
      "                     coef    std err          t      P>|t|      [0.025      0.975]\n",
      "----------------------------------------------------------------------------------\n",
      "Intercept          0.3987      0.007     53.887      0.000       0.384       0.413\n",
      "C(chosen)[T.1]     0.0922      0.014      6.621      0.000       0.065       0.120\n",
      "==============================================================================\n",
      "Omnibus:                        1.753   Durbin-Watson:                   1.350\n",
      "Prob(Omnibus):                  0.416   Jarque-Bera (JB):                1.570\n",
      "Skew:                           0.004   Prob(JB):                        0.456\n",
      "Kurtosis:                       3.384   Cond. No.                         2.44\n",
      "==============================================================================\n",
      "\n",
      "Warnings:\n",
      "[1] Standard Errors assume that the covariance matrix of the errors is correctly specified.\n",
      "centroidfiles\n",
      "kurtosisfiles\n",
      "entropyfiles\n",
      "mfccfiles_1\n",
      "mfccfiles_2\n",
      "                            OLS Regression Results                            \n",
      "==============================================================================\n",
      "Dep. Variable:            mfccfiles_2   R-squared:                       0.019\n",
      "Model:                            OLS   Adj. R-squared:                  0.015\n",
      "Method:                 Least Squares   F-statistic:                     4.959\n",
      "Date:                Mon, 23 Sep 2019   Prob (F-statistic):             0.0268\n",
      "Time:                        14:56:44   Log-Likelihood:                -162.03\n",
      "No. Observations:                 255   AIC:                             328.1\n",
      "Df Residuals:                     253   BIC:                             335.1\n",
      "Df Model:                           1                                         \n",
      "Covariance Type:            nonrobust                                         \n",
      "==================================================================================\n",
      "                     coef    std err          t      P>|t|      [0.025      0.975]\n",
      "----------------------------------------------------------------------------------\n",
      "Intercept          0.3388      0.034      9.993      0.000       0.272       0.406\n",
      "C(chosen)[T.1]    -0.1421      0.064     -2.227      0.027      -0.268      -0.016\n",
      "==============================================================================\n",
      "Omnibus:                        0.859   Durbin-Watson:                   1.503\n",
      "Prob(Omnibus):                  0.651   Jarque-Bera (JB):                0.574\n",
      "Skew:                           0.038   Prob(JB):                        0.750\n",
      "Kurtosis:                       3.220   Cond. No.                         2.44\n",
      "==============================================================================\n",
      "\n",
      "Warnings:\n",
      "[1] Standard Errors assume that the covariance matrix of the errors is correctly specified.\n",
      "mfccfiles_7\n",
      "                            OLS Regression Results                            \n",
      "==============================================================================\n",
      "Dep. Variable:            mfccfiles_7   R-squared:                       0.021\n",
      "Model:                            OLS   Adj. R-squared:                  0.017\n",
      "Method:                 Least Squares   F-statistic:                     5.391\n",
      "Date:                Mon, 23 Sep 2019   Prob (F-statistic):             0.0210\n",
      "Time:                        14:56:44   Log-Likelihood:                 80.421\n",
      "No. Observations:                 255   AIC:                            -156.8\n",
      "Df Residuals:                     253   BIC:                            -149.8\n",
      "Df Model:                           1                                         \n",
      "Covariance Type:            nonrobust                                         \n",
      "==================================================================================\n",
      "                     coef    std err          t      P>|t|      [0.025      0.975]\n",
      "----------------------------------------------------------------------------------\n",
      "Intercept          0.0971      0.013      7.410      0.000       0.071       0.123\n",
      "C(chosen)[T.1]    -0.0572      0.025     -2.322      0.021      -0.106      -0.009\n",
      "==============================================================================\n",
      "Omnibus:                        2.241   Durbin-Watson:                   1.538\n",
      "Prob(Omnibus):                  0.326   Jarque-Bera (JB):                1.962\n",
      "Skew:                           0.205   Prob(JB):                        0.375\n",
      "Kurtosis:                       3.127   Cond. No.                         2.44\n",
      "==============================================================================\n",
      "\n",
      "Warnings:\n",
      "[1] Standard Errors assume that the covariance matrix of the errors is correctly specified.\n",
      "mfccfiles_8\n",
      "mfccfiles_12\n",
      "bestkeyfiles\n",
      "tonalcentroidfiles_2\n",
      "tonalcentroidfiles_4\n",
      "                             OLS Regression Results                             \n",
      "================================================================================\n",
      "Dep. Variable:     tonalcentroidfiles_4   R-squared:                       0.019\n",
      "Model:                              OLS   Adj. R-squared:                  0.015\n",
      "Method:                   Least Squares   F-statistic:                     4.839\n",
      "Date:                  Mon, 23 Sep 2019   Prob (F-statistic):             0.0287\n",
      "Time:                          14:56:44   Log-Likelihood:                -248.20\n",
      "No. Observations:                   255   AIC:                             500.4\n",
      "Df Residuals:                       253   BIC:                             507.5\n",
      "Df Model:                             1                                         \n",
      "Covariance Type:              nonrobust                                         \n",
      "==================================================================================\n",
      "                     coef    std err          t      P>|t|      [0.025      0.975]\n",
      "----------------------------------------------------------------------------------\n",
      "Intercept          0.2427      0.048      5.107      0.000       0.149       0.336\n",
      "C(chosen)[T.1]    -0.1968      0.089     -2.200      0.029      -0.373      -0.021\n",
      "==============================================================================\n",
      "Omnibus:                        1.182   Durbin-Watson:                   1.568\n",
      "Prob(Omnibus):                  0.554   Jarque-Bera (JB):                0.886\n",
      "Skew:                           0.104   Prob(JB):                        0.642\n",
      "Kurtosis:                       3.199   Cond. No.                         2.44\n",
      "==============================================================================\n",
      "\n",
      "Warnings:\n",
      "[1] Standard Errors assume that the covariance matrix of the errors is correctly specified.\n",
      "chromagramfiles_2\n",
      "chromagramfiles_3\n",
      "chromagramfiles_5\n",
      "chromagramfiles_12\n",
      "****************************************************************************\n",
      "Gramma\n",
      "rmsfiles\n",
      "rmsmedianfiles\n",
      "lowenergyfiles\n",
      "                            OLS Regression Results                            \n",
      "==============================================================================\n",
      "Dep. Variable:         lowenergyfiles   R-squared:                       0.014\n",
      "Model:                            OLS   Adj. R-squared:                  0.010\n",
      "Method:                 Least Squares   F-statistic:                     4.227\n",
      "Date:                Mon, 23 Sep 2019   Prob (F-statistic):             0.0406\n",
      "Time:                        14:56:44   Log-Likelihood:                 390.44\n",
      "No. Observations:                 309   AIC:                            -776.9\n",
      "Df Residuals:                     307   BIC:                            -769.4\n",
      "Df Model:                           1                                         \n",
      "Covariance Type:            nonrobust                                         \n",
      "==================================================================================\n",
      "                     coef    std err          t      P>|t|      [0.025      0.975]\n",
      "----------------------------------------------------------------------------------\n",
      "Intercept          0.5325      0.004    121.715      0.000       0.524       0.541\n",
      "C(chosen)[T.1]    -0.0199      0.010     -2.056      0.041      -0.039      -0.001\n",
      "==============================================================================\n",
      "Omnibus:                        0.806   Durbin-Watson:                   1.767\n",
      "Prob(Omnibus):                  0.668   Jarque-Bera (JB):                0.897\n",
      "Skew:                           0.057   Prob(JB):                        0.639\n",
      "Kurtosis:                       2.762   Cond. No.                         2.60\n",
      "==============================================================================\n",
      "\n",
      "Warnings:\n",
      "[1] Standard Errors assume that the covariance matrix of the errors is correctly specified.\n",
      "beatspectrumfiles\n",
      "brightnessfiles\n",
      "flatnessfiles\n",
      "entropyfiles\n",
      "mfccfiles_1\n",
      "mfccfiles_2\n",
      "                            OLS Regression Results                            \n",
      "==============================================================================\n",
      "Dep. Variable:            mfccfiles_2   R-squared:                       0.018\n",
      "Model:                            OLS   Adj. R-squared:                  0.015\n",
      "Method:                 Least Squares   F-statistic:                     5.640\n",
      "Date:                Mon, 23 Sep 2019   Prob (F-statistic):             0.0182\n",
      "Time:                        14:56:44   Log-Likelihood:                -56.338\n",
      "No. Observations:                 309   AIC:                             116.7\n",
      "Df Residuals:                     307   BIC:                             124.1\n",
      "Df Model:                           1                                         \n",
      "Covariance Type:            nonrobust                                         \n",
      "==================================================================================\n",
      "                     coef    std err          t      P>|t|      [0.025      0.975]\n",
      "----------------------------------------------------------------------------------\n",
      "Intercept          0.1468      0.019      7.906      0.000       0.110       0.183\n",
      "C(chosen)[T.1]    -0.0977      0.041     -2.375      0.018      -0.179      -0.017\n",
      "==============================================================================\n",
      "Omnibus:                        0.578   Durbin-Watson:                   1.666\n",
      "Prob(Omnibus):                  0.749   Jarque-Bera (JB):                0.691\n",
      "Skew:                          -0.089   Prob(JB):                        0.708\n",
      "Kurtosis:                       2.851   Cond. No.                         2.60\n",
      "==============================================================================\n",
      "\n",
      "Warnings:\n",
      "[1] Standard Errors assume that the covariance matrix of the errors is correctly specified.\n",
      "mfccfiles_5\n",
      "                            OLS Regression Results                            \n",
      "==============================================================================\n",
      "Dep. Variable:            mfccfiles_5   R-squared:                       0.050\n",
      "Model:                            OLS   Adj. R-squared:                  0.047\n",
      "Method:                 Least Squares   F-statistic:                     16.18\n",
      "Date:                Mon, 23 Sep 2019   Prob (F-statistic):           7.25e-05\n",
      "Time:                        14:56:44   Log-Likelihood:                 136.48\n",
      "No. Observations:                 309   AIC:                            -269.0\n",
      "Df Residuals:                     307   BIC:                            -261.5\n",
      "Df Model:                           1                                         \n",
      "Covariance Type:            nonrobust                                         \n",
      "==================================================================================\n",
      "                     coef    std err          t      P>|t|      [0.025      0.975]\n",
      "----------------------------------------------------------------------------------\n",
      "Intercept          0.1104      0.010     11.091      0.000       0.091       0.130\n",
      "C(chosen)[T.1]    -0.0887      0.022     -4.023      0.000      -0.132      -0.045\n",
      "==============================================================================\n",
      "Omnibus:                        4.343   Durbin-Watson:                   1.668\n",
      "Prob(Omnibus):                  0.114   Jarque-Bera (JB):                5.555\n",
      "Skew:                           0.033   Prob(JB):                       0.0622\n",
      "Kurtosis:                       3.654   Cond. No.                         2.60\n",
      "==============================================================================\n",
      "\n",
      "Warnings:\n",
      "[1] Standard Errors assume that the covariance matrix of the errors is correctly specified.\n"
     ]
    },
    {
     "name": "stdout",
     "output_type": "stream",
     "text": [
      "inharmonicityfiles\n",
      "chromagramfiles_10\n",
      "****************************************************************************\n",
      "Hotel Marrakech\n",
      "rmsfiles\n",
      "                            OLS Regression Results                            \n",
      "==============================================================================\n",
      "Dep. Variable:               rmsfiles   R-squared:                       0.087\n",
      "Model:                            OLS   Adj. R-squared:                  0.082\n",
      "Method:                 Least Squares   F-statistic:                     17.56\n",
      "Date:                Mon, 23 Sep 2019   Prob (F-statistic):           4.32e-05\n",
      "Time:                        14:56:44   Log-Likelihood:                 240.55\n",
      "No. Observations:                 186   AIC:                            -477.1\n",
      "Df Residuals:                     184   BIC:                            -470.6\n",
      "Df Model:                           1                                         \n",
      "Covariance Type:            nonrobust                                         \n",
      "==================================================================================\n",
      "                     coef    std err          t      P>|t|      [0.025      0.975]\n",
      "----------------------------------------------------------------------------------\n",
      "Intercept          0.2027      0.006     34.090      0.000       0.191       0.214\n",
      "C(chosen)[T.1]    -0.0439      0.010     -4.191      0.000      -0.065      -0.023\n",
      "==============================================================================\n",
      "Omnibus:                        6.319   Durbin-Watson:                   1.489\n",
      "Prob(Omnibus):                  0.042   Jarque-Bera (JB):                6.483\n",
      "Skew:                           0.324   Prob(JB):                       0.0391\n",
      "Kurtosis:                       3.645   Cond. No.                         2.42\n",
      "==============================================================================\n",
      "\n",
      "Warnings:\n",
      "[1] Standard Errors assume that the covariance matrix of the errors is correctly specified.\n",
      "rmsmedianfiles\n",
      "lowenergyfiles\n",
      "beatspectrumfiles\n",
      "eventdensityfiles\n",
      "                            OLS Regression Results                            \n",
      "==============================================================================\n",
      "Dep. Variable:      eventdensityfiles   R-squared:                       0.024\n",
      "Model:                            OLS   Adj. R-squared:                  0.018\n",
      "Method:                 Least Squares   F-statistic:                     4.456\n",
      "Date:                Mon, 23 Sep 2019   Prob (F-statistic):             0.0361\n",
      "Time:                        14:56:45   Log-Likelihood:                -284.14\n",
      "No. Observations:                 186   AIC:                             572.3\n",
      "Df Residuals:                     184   BIC:                             578.7\n",
      "Df Model:                           1                                         \n",
      "Covariance Type:            nonrobust                                         \n",
      "==================================================================================\n",
      "                     coef    std err          t      P>|t|      [0.025      0.975]\n",
      "----------------------------------------------------------------------------------\n",
      "Intercept          3.1611      0.100     31.657      0.000       2.964       3.358\n",
      "C(chosen)[T.1]    -0.3711      0.176     -2.111      0.036      -0.718      -0.024\n",
      "==============================================================================\n",
      "Omnibus:                        1.098   Durbin-Watson:                   1.499\n",
      "Prob(Omnibus):                  0.578   Jarque-Bera (JB):                1.033\n",
      "Skew:                           0.181   Prob(JB):                        0.597\n",
      "Kurtosis:                       2.960   Cond. No.                         2.42\n",
      "==============================================================================\n",
      "\n",
      "Warnings:\n",
      "[1] Standard Errors assume that the covariance matrix of the errors is correctly specified.\n",
      "pulseclarityfiles\n",
      "rolloffsfiles\n",
      "brightnessfiles\n",
      "                            OLS Regression Results                            \n",
      "==============================================================================\n",
      "Dep. Variable:        brightnessfiles   R-squared:                       0.056\n",
      "Model:                            OLS   Adj. R-squared:                  0.051\n",
      "Method:                 Least Squares   F-statistic:                     10.93\n",
      "Date:                Mon, 23 Sep 2019   Prob (F-statistic):            0.00114\n",
      "Time:                        14:56:45   Log-Likelihood:                 131.65\n",
      "No. Observations:                 186   AIC:                            -259.3\n",
      "Df Residuals:                     184   BIC:                            -252.8\n",
      "Df Model:                           1                                         \n",
      "Covariance Type:            nonrobust                                         \n",
      "==================================================================================\n",
      "                     coef    std err          t      P>|t|      [0.025      0.975]\n",
      "----------------------------------------------------------------------------------\n",
      "Intercept          0.4658      0.011     43.615      0.000       0.445       0.487\n",
      "C(chosen)[T.1]    -0.0622      0.019     -3.305      0.001      -0.099      -0.025\n",
      "==============================================================================\n",
      "Omnibus:                        0.241   Durbin-Watson:                   1.270\n",
      "Prob(Omnibus):                  0.887   Jarque-Bera (JB):                0.273\n",
      "Skew:                          -0.085   Prob(JB):                        0.872\n",
      "Kurtosis:                       2.921   Cond. No.                         2.42\n",
      "==============================================================================\n",
      "\n",
      "Warnings:\n",
      "[1] Standard Errors assume that the covariance matrix of the errors is correctly specified.\n",
      "centroidfiles\n",
      "kurtosisfiles\n",
      "entropyfiles\n",
      "mfccfiles_1\n",
      "                            OLS Regression Results                            \n",
      "==============================================================================\n",
      "Dep. Variable:            mfccfiles_1   R-squared:                       0.039\n",
      "Model:                            OLS   Adj. R-squared:                  0.033\n",
      "Method:                 Least Squares   F-statistic:                     7.377\n",
      "Date:                Mon, 23 Sep 2019   Prob (F-statistic):            0.00724\n",
      "Time:                        14:56:45   Log-Likelihood:                -165.65\n",
      "No. Observations:                 186   AIC:                             335.3\n",
      "Df Residuals:                     184   BIC:                             341.8\n",
      "Df Model:                           1                                         \n",
      "Covariance Type:            nonrobust                                         \n",
      "==================================================================================\n",
      "                     coef    std err          t      P>|t|      [0.025      0.975]\n",
      "----------------------------------------------------------------------------------\n",
      "Intercept          2.4098      0.053     45.633      0.000       2.306       2.514\n",
      "C(chosen)[T.1]     0.2525      0.093      2.716      0.007       0.069       0.436\n",
      "==============================================================================\n",
      "Omnibus:                        5.362   Durbin-Watson:                   1.240\n",
      "Prob(Omnibus):                  0.068   Jarque-Bera (JB):                5.525\n",
      "Skew:                           0.272   Prob(JB):                       0.0631\n",
      "Kurtosis:                       3.645   Cond. No.                         2.42\n",
      "==============================================================================\n",
      "\n",
      "Warnings:\n",
      "[1] Standard Errors assume that the covariance matrix of the errors is correctly specified.\n",
      "mfccfiles_2\n",
      "mfccfiles_9\n",
      "mfccfiles_10\n",
      "                            OLS Regression Results                            \n",
      "==============================================================================\n",
      "Dep. Variable:           mfccfiles_10   R-squared:                       0.031\n",
      "Model:                            OLS   Adj. R-squared:                  0.026\n",
      "Method:                 Least Squares   F-statistic:                     5.878\n",
      "Date:                Mon, 23 Sep 2019   Prob (F-statistic):             0.0163\n",
      "Time:                        14:56:45   Log-Likelihood:                 53.650\n",
      "No. Observations:                 186   AIC:                            -103.3\n",
      "Df Residuals:                     184   BIC:                            -96.85\n",
      "Df Model:                           1                                         \n",
      "Covariance Type:            nonrobust                                         \n",
      "==================================================================================\n",
      "                     coef    std err          t      P>|t|      [0.025      0.975]\n",
      "----------------------------------------------------------------------------------\n",
      "Intercept          0.0488      0.016      3.004      0.003       0.017       0.081\n",
      "C(chosen)[T.1]     0.0693      0.029      2.424      0.016       0.013       0.126\n",
      "==============================================================================\n",
      "Omnibus:                        1.539   Durbin-Watson:                   1.613\n",
      "Prob(Omnibus):                  0.463   Jarque-Bera (JB):                1.256\n",
      "Skew:                          -0.193   Prob(JB):                        0.534\n",
      "Kurtosis:                       3.113   Cond. No.                         2.42\n",
      "==============================================================================\n",
      "\n",
      "Warnings:\n",
      "[1] Standard Errors assume that the covariance matrix of the errors is correctly specified.\n",
      "mfccfiles_11\n",
      "                            OLS Regression Results                            \n",
      "==============================================================================\n",
      "Dep. Variable:           mfccfiles_11   R-squared:                       0.037\n",
      "Model:                            OLS   Adj. R-squared:                  0.032\n",
      "Method:                 Least Squares   F-statistic:                     7.137\n",
      "Date:                Mon, 23 Sep 2019   Prob (F-statistic):            0.00823\n",
      "Time:                        14:56:45   Log-Likelihood:                 62.695\n",
      "No. Observations:                 186   AIC:                            -121.4\n",
      "Df Residuals:                     184   BIC:                            -114.9\n",
      "Df Model:                           1                                         \n",
      "Covariance Type:            nonrobust                                         \n",
      "==================================================================================\n",
      "                     coef    std err          t      P>|t|      [0.025      0.975]\n",
      "----------------------------------------------------------------------------------\n",
      "Intercept         -0.0285      0.015     -1.844      0.067      -0.059       0.002\n",
      "C(chosen)[T.1]     0.0728      0.027      2.672      0.008       0.019       0.127\n",
      "==============================================================================\n",
      "Omnibus:                        0.919   Durbin-Watson:                   1.644\n",
      "Prob(Omnibus):                  0.632   Jarque-Bera (JB):                0.597\n",
      "Skew:                           0.099   Prob(JB):                        0.742\n",
      "Kurtosis:                       3.194   Cond. No.                         2.42\n",
      "==============================================================================\n",
      "\n",
      "Warnings:\n",
      "[1] Standard Errors assume that the covariance matrix of the errors is correctly specified.\n",
      "mfccfiles_13\n",
      "keyclarityfiles\n",
      "chromagramfiles_7\n",
      "****************************************************************************\n",
      "Specialized\n",
      "tempofiles\n",
      "zerocrossfiles\n",
      "brightnessfiles\n"
     ]
    },
    {
     "name": "stdout",
     "output_type": "stream",
     "text": [
      "spreadfiles\n",
      "centroidfiles\n",
      "flatnessfiles\n",
      "entropyfiles\n",
      "mfccfiles_1\n",
      "chromagramfiles_5\n",
      "chromagramfiles_7\n",
      "****************************************************************************\n",
      "Urban Place\n",
      "mfccfiles_12\n",
      "                            OLS Regression Results                            \n",
      "==============================================================================\n",
      "Dep. Variable:           mfccfiles_12   R-squared:                       0.061\n",
      "Model:                            OLS   Adj. R-squared:                  0.057\n",
      "Method:                 Least Squares   F-statistic:                     14.42\n",
      "Date:                Mon, 23 Sep 2019   Prob (F-statistic):           0.000189\n",
      "Time:                        14:56:45   Log-Likelihood:                 185.01\n",
      "No. Observations:                 225   AIC:                            -366.0\n",
      "Df Residuals:                     223   BIC:                            -359.2\n",
      "Df Model:                           1                                         \n",
      "Covariance Type:            nonrobust                                         \n",
      "==================================================================================\n",
      "                     coef    std err          t      P>|t|      [0.025      0.975]\n",
      "----------------------------------------------------------------------------------\n",
      "Intercept          0.0165      0.009      1.908      0.058      -0.001       0.033\n",
      "C(chosen)[T.1]     0.0580      0.015      3.797      0.000       0.028       0.088\n",
      "==============================================================================\n",
      "Omnibus:                        7.791   Durbin-Watson:                   1.793\n",
      "Prob(Omnibus):                  0.020   Jarque-Bera (JB):                8.528\n",
      "Skew:                          -0.327   Prob(JB):                       0.0141\n",
      "Kurtosis:                       3.693   Cond. No.                         2.42\n",
      "==============================================================================\n",
      "\n",
      "Warnings:\n",
      "[1] Standard Errors assume that the covariance matrix of the errors is correctly specified.\n",
      "modalityfiles\n",
      "tonalcentroidfiles_2\n",
      "chromagramfiles_1\n",
      "chromagramfiles_2\n",
      "chromagramfiles_4\n",
      "chromagramfiles_7\n",
      "chromagramfiles_9\n"
     ]
    },
    {
     "data": {
      "image/png": "[encoded data removed]",
      "text/plain": [
       "<Figure size 432x288 with 1 Axes>"
      ]
     },
     "metadata": {
      "needs_background": "light"
     },
     "output_type": "display_data"
    },
    {
     "data": {
      "image/png": "[encoded data removed]",
      "text/plain": [
       "<Figure size 432x288 with 1 Axes>"
      ]
     },
     "metadata": {
      "needs_background": "light"
     },
     "output_type": "display_data"
    },
    {
     "data": {
      "image/png": "[encoded data removed]",
      "text/plain": [
       "<Figure size 432x288 with 1 Axes>"
      ]
     },
     "metadata": {
      "needs_background": "light"
     },
     "output_type": "display_data"
    },
    {
     "data": {
      "image/png": "[encoded data removed]",
      "text/plain": [
       "<Figure size 432x288 with 1 Axes>"
      ]
     },
     "metadata": {
      "needs_background": "light"
     },
     "output_type": "display_data"
    },
    {
     "data": {
      "image/png": "[encoded data removed]",
      "text/plain": [
       "<Figure size 432x288 with 1 Axes>"
      ]
     },
     "metadata": {
      "needs_background": "light"
     },
     "output_type": "display_data"
    },
    {
     "data": {
      "image/png": "[encoded data removed]",
      "text/plain": [
       "<Figure size 432x288 with 1 Axes>"
      ]
     },
     "metadata": {
      "needs_background": "light"
     },
     "output_type": "display_data"
    },
    {
     "data": {
      "image/png": "[encoded data removed]",
      "text/plain": [
       "<Figure size 432x288 with 1 Axes>"
      ]
     },
     "metadata": {
      "needs_background": "light"
     },
     "output_type": "display_data"
    },
    {
     "data": {
      "image/png": "[encoded data removed]",
      "text/plain": [
       "<Figure size 432x288 with 1 Axes>"
      ]
     },
     "metadata": {
      "needs_background": "light"
     },
     "output_type": "display_data"
    },
    {
     "data": {
      "image/png": "[encoded data removed]",
      "text/plain": [
       "<Figure size 432x288 with 1 Axes>"
      ]
     },
     "metadata": {
      "needs_background": "light"
     },
     "output_type": "display_data"
    },
    {
     "data": {
      "image/png": "[encoded data removed]",
      "text/plain": [
       "<Figure size 432x288 with 1 Axes>"
      ]
     },
     "metadata": {
      "needs_background": "light"
     },
     "output_type": "display_data"
    },
    {
     "data": {
      "image/png": "[encoded data removed]",
      "text/plain": [
       "<Figure size 432x288 with 1 Axes>"
      ]
     },
     "metadata": {
      "needs_background": "light"
     },
     "output_type": "display_data"
    },
    {
     "data": {
      "image/png": "[encoded data removed]",
      "text/plain": [
       "<Figure size 432x288 with 1 Axes>"
      ]
     },
     "metadata": {
      "needs_background": "light"
     },
     "output_type": "display_data"
    },
    {
     "data": {
      "image/png": "[encoded data removed]",
      "text/plain": [
       "<Figure size 432x288 with 1 Axes>"
      ]
     },
     "metadata": {
      "needs_background": "light"
     },
     "output_type": "display_data"
    },
    {
     "data": {
      "image/png": "[encoded data removed]",
      "text/plain": [
       "<Figure size 432x288 with 1 Axes>"
      ]
     },
     "metadata": {
      "needs_background": "light"
     },
     "output_type": "display_data"
    }
   ],
   "source": [
    "alpha = 0.05\n",
    "for df_n_p in df_n_ps:\n",
    "    print(\"****************************************************************************\")\n",
    "    print(df_n_p.iloc[0,0])\n",
    "    for index in range(10,df_n_p.shape[1]-1):\n",
    "        name= df_n_p.columns.values[index]\n",
    "        df_n_p[name]=df_n_p[name].astype('float64') \n",
    "        mc = MultiComparison(df_n_p[name], df_n_p['chosen'])\n",
    "        mc_results = mc.tukeyhsd()\n",
    "        if mc_results._results_table.data[1:][0][5]:\n",
    "            print(name)\n",
    "            results = ols(name+' ~ C(chosen)', data=df_n_p).fit()\n",
    "            homogeneity_test = stats.levene(df_n_p[name][df_n_p['chosen'] == 0], df_n_p[name][df_n_p['chosen'] == 1])[1]\n",
    "            normality_test = stats.shapiro(results.resid)[1]\n",
    "            if homogeneity_test > alpha and normality_test > alpha:\n",
    "                print(results.summary())\n",
    "                df_n_p.boxplot(name, by='chosen')"
   ]
  },
  {
   "cell_type": "markdown",
   "metadata": {},
   "source": [
    "# Pregunta:\n",
    "¿También se debe hacer de comparación de todas las canciones que están registradas por compañía sin importar el playlist o entre compañía tomando solo los positives (ult pl))?"
   ]
  },
  {
   "cell_type": "markdown",
   "metadata": {},
   "source": [
    "# Clustering"
   ]
  },
  {
   "cell_type": "code",
   "execution_count": 26,
   "metadata": {},
   "outputs": [],
   "source": [
    "import matplotlib.pyplot as plt\n",
    "import seaborn as sns\n",
    "import math\n",
    "from collections import Counter\n",
    "\n",
    "\n",
    "from sklearn.cluster import KMeans\n",
    "from sklearn.metrics import confusion_matrix, accuracy_score, silhouette_samples, silhouette_score, calinski_harabaz_score\n",
    "from sklearn import preprocessing\n",
    "from sklearn.decomposition import PCA"
   ]
  },
  {
   "cell_type": "code",
   "execution_count": 29,
   "metadata": {
    "scrolled": true
   },
   "outputs": [
    {
     "name": "stdout",
     "output_type": "stream",
     "text": [
      "<class 'pandas.core.frame.DataFrame'>\n",
      "RangeIndex: 1782 entries, 0 to 1781\n",
      "Data columns (total 64 columns):\n",
      "company                 1782 non-null object\n",
      "playlist_sample         1782 non-null int64\n",
      "namesfiles              1782 non-null object\n",
      "no                      1782 non-null int64\n",
      "artist                  1782 non-null object\n",
      "song                    1782 non-null object\n",
      "sampleratefiles         1782 non-null int64\n",
      "totalsamplesfiles       1782 non-null int64\n",
      "durationfiles           1782 non-null float64\n",
      "bitratefiles            1782 non-null int64\n",
      "rmsfiles                1782 non-null float64\n",
      "rmsmedianfiles          1782 non-null float64\n",
      "lowenergyfiles          1782 non-null float64\n",
      "ASRfiles                1782 non-null float64\n",
      "beatspectrumfiles       1782 non-null float64\n",
      "eventdensityfiles       1782 non-null float64\n",
      "tempofiles              1782 non-null float64\n",
      "pulseclarityfiles       1782 non-null float64\n",
      "zerocrossfiles          1782 non-null float64\n",
      "rolloffsfiles           1782 non-null float64\n",
      "brightnessfiles         1782 non-null float64\n",
      "spreadfiles             1782 non-null float64\n",
      "centroidfiles           1779 non-null float64\n",
      "kurtosisfiles           1782 non-null float64\n",
      "flatnessfiles           1782 non-null float64\n",
      "entropyfiles            1782 non-null float64\n",
      "mfccfiles_1             1782 non-null float64\n",
      "mfccfiles_2             1782 non-null float64\n",
      "mfccfiles_3             1782 non-null float64\n",
      "mfccfiles_4             1782 non-null float64\n",
      "mfccfiles_5             1782 non-null float64\n",
      "mfccfiles_6             1782 non-null float64\n",
      "mfccfiles_7             1782 non-null float64\n",
      "mfccfiles_8             1782 non-null float64\n",
      "mfccfiles_9             1782 non-null float64\n",
      "mfccfiles_10            1782 non-null float64\n",
      "mfccfiles_11            1782 non-null float64\n",
      "mfccfiles_12            1782 non-null float64\n",
      "mfccfiles_13            1782 non-null float64\n",
      "pitchfiles              1782 non-null int64\n",
      "inharmonicityfiles      1782 non-null float64\n",
      "bestkeyfiles            1782 non-null int64\n",
      "keyclarityfiles         1782 non-null float64\n",
      "modalityfiles           1782 non-null float64\n",
      "tonalcentroidfiles_1    1782 non-null float64\n",
      "tonalcentroidfiles_2    1782 non-null float64\n",
      "tonalcentroidfiles_3    1782 non-null float64\n",
      "tonalcentroidfiles_4    1782 non-null float64\n",
      "tonalcentroidfiles_5    1782 non-null float64\n",
      "tonalcentroidfiles_6    1782 non-null float64\n",
      "chromagramfiles_1       1782 non-null float64\n",
      "chromagramfiles_2       1782 non-null float64\n",
      "chromagramfiles_3       1782 non-null float64\n",
      "chromagramfiles_4       1782 non-null float64\n",
      "chromagramfiles_5       1782 non-null float64\n",
      "chromagramfiles_6       1782 non-null float64\n",
      "chromagramfiles_7       1782 non-null float64\n",
      "chromagramfiles_8       1782 non-null float64\n",
      "chromagramfiles_9       1782 non-null float64\n",
      "chromagramfiles_10      1782 non-null float64\n",
      "chromagramfiles_11      1782 non-null float64\n",
      "chromagramfiles_12      1782 non-null float64\n",
      "attackslopefiles        1782 non-null float64\n",
      "attackleapfiles         1782 non-null float64\n",
      "dtypes: float64(53), int64(7), object(4)\n",
      "memory usage: 891.1+ KB\n"
     ]
    }
   ],
   "source": [
    "data.info()"
   ]
  },
  {
   "cell_type": "code",
   "execution_count": 31,
   "metadata": {
    "scrolled": true
   },
   "outputs": [
    {
     "name": "stdout",
     "output_type": "stream",
     "text": [
      "<class 'pandas.core.frame.DataFrame'>\n",
      "RangeIndex: 1782 entries, 0 to 1781\n",
      "Data columns (total 64 columns):\n",
      "company                 1782 non-null object\n",
      "playlist_sample         1782 non-null int64\n",
      "namesfiles              1782 non-null object\n",
      "no                      1782 non-null int64\n",
      "artist                  1782 non-null object\n",
      "song                    1782 non-null object\n",
      "sampleratefiles         1782 non-null int64\n",
      "totalsamplesfiles       1782 non-null int64\n",
      "durationfiles           1782 non-null float64\n",
      "bitratefiles            1782 non-null float64\n",
      "rmsfiles                1782 non-null float64\n",
      "rmsmedianfiles          1782 non-null float64\n",
      "lowenergyfiles          1782 non-null float64\n",
      "ASRfiles                1782 non-null float64\n",
      "beatspectrumfiles       1782 non-null float64\n",
      "eventdensityfiles       1782 non-null float64\n",
      "tempofiles              1782 non-null float64\n",
      "pulseclarityfiles       1782 non-null float64\n",
      "zerocrossfiles          1782 non-null float64\n",
      "rolloffsfiles           1782 non-null float64\n",
      "brightnessfiles         1782 non-null float64\n",
      "spreadfiles             1782 non-null float64\n",
      "centroidfiles           1779 non-null float64\n",
      "kurtosisfiles           1782 non-null float64\n",
      "flatnessfiles           1782 non-null float64\n",
      "entropyfiles            1782 non-null float64\n",
      "mfccfiles_1             1782 non-null float64\n",
      "mfccfiles_2             1782 non-null float64\n",
      "mfccfiles_3             1782 non-null float64\n",
      "mfccfiles_4             1782 non-null float64\n",
      "mfccfiles_5             1782 non-null float64\n",
      "mfccfiles_6             1782 non-null float64\n",
      "mfccfiles_7             1782 non-null float64\n",
      "mfccfiles_8             1782 non-null float64\n",
      "mfccfiles_9             1782 non-null float64\n",
      "mfccfiles_10            1782 non-null float64\n",
      "mfccfiles_11            1782 non-null float64\n",
      "mfccfiles_12            1782 non-null float64\n",
      "mfccfiles_13            1782 non-null float64\n",
      "pitchfiles              1782 non-null float64\n",
      "inharmonicityfiles      1782 non-null float64\n",
      "bestkeyfiles            1782 non-null float64\n",
      "keyclarityfiles         1782 non-null float64\n",
      "modalityfiles           1782 non-null float64\n",
      "tonalcentroidfiles_1    1782 non-null float64\n",
      "tonalcentroidfiles_2    1782 non-null float64\n",
      "tonalcentroidfiles_3    1782 non-null float64\n",
      "tonalcentroidfiles_4    1782 non-null float64\n",
      "tonalcentroidfiles_5    1782 non-null float64\n",
      "tonalcentroidfiles_6    1782 non-null float64\n",
      "chromagramfiles_1       1782 non-null float64\n",
      "chromagramfiles_2       1782 non-null float64\n",
      "chromagramfiles_3       1782 non-null float64\n",
      "chromagramfiles_4       1782 non-null float64\n",
      "chromagramfiles_5       1782 non-null float64\n",
      "chromagramfiles_6       1782 non-null float64\n",
      "chromagramfiles_7       1782 non-null float64\n",
      "chromagramfiles_8       1782 non-null float64\n",
      "chromagramfiles_9       1782 non-null float64\n",
      "chromagramfiles_10      1782 non-null float64\n",
      "chromagramfiles_11      1782 non-null float64\n",
      "chromagramfiles_12      1782 non-null float64\n",
      "attackslopefiles        1782 non-null float64\n",
      "attackleapfiles         1782 non-null float64\n",
      "dtypes: float64(56), int64(4), object(4)\n",
      "memory usage: 891.1+ KB\n"
     ]
    }
   ],
   "source": [
    "data.bitratefiles = data.bitratefiles.astype('float64')\n",
    "data.pitchfiles = data.pitchfiles.astype('float64')\n",
    "data.bestkeyfiles = data.bestkeyfiles.astype('float64')\n",
    "data.info()"
   ]
  },
  {
   "cell_type": "markdown",
   "metadata": {},
   "source": [
    "Vamos a reemplazar los NaN y entonces a normalizar los datos para que todas las variables tengan la misma importancia. Solo vamos a considerar los datos numéricos."
   ]
  },
  {
   "cell_type": "code",
   "execution_count": 75,
   "metadata": {
    "scrolled": true
   },
   "outputs": [
    {
     "data": {
      "text/plain": [
       "durationfiles           2.118271e-17\n",
       "bitratefiles            9.565861e-16\n",
       "rmsfiles               -4.236541e-17\n",
       "rmsmedianfiles         -9.469916e-18\n",
       "lowenergyfiles          6.322415e-16\n",
       "ASRfiles                2.117025e-16\n",
       "beatspectrumfiles       1.189814e-16\n",
       "eventdensityfiles      -4.901304e-16\n",
       "tempofiles              4.909404e-17\n",
       "pulseclarityfiles       8.270601e-17\n",
       "zerocrossfiles          1.672188e-16\n",
       "rolloffsfiles           3.420384e-16\n",
       "brightnessfiles        -1.221121e-17\n",
       "spreadfiles            -3.812887e-17\n",
       "centroidfiles          -4.494472e-16\n",
       "kurtosisfiles          -1.564717e-16\n",
       "flatnessfiles           3.293288e-16\n",
       "entropyfiles            8.131667e-16\n",
       "mfccfiles_1             1.659104e-16\n",
       "mfccfiles_2             3.140025e-17\n",
       "mfccfiles_3             2.759982e-17\n",
       "mfccfiles_4            -5.519964e-17\n",
       "mfccfiles_5            -8.756557e-17\n",
       "mfccfiles_6             7.026117e-17\n",
       "mfccfiles_7            -8.641298e-17\n",
       "mfccfiles_8            -4.383730e-17\n",
       "mfccfiles_9             2.678989e-18\n",
       "mfccfiles_10            4.968591e-17\n",
       "mfccfiles_11           -5.812784e-17\n",
       "mfccfiles_12           -2.060641e-17\n",
       "mfccfiles_13           -2.255335e-17\n",
       "pitchfiles              0.000000e+00\n",
       "inharmonicityfiles     -1.576243e-15\n",
       "bestkeyfiles           -1.689009e-16\n",
       "keyclarityfiles        -6.093143e-17\n",
       "modalityfiles           3.937491e-17\n",
       "tonalcentroidfiles_1    3.931261e-17\n",
       "tonalcentroidfiles_2    1.756919e-17\n",
       "tonalcentroidfiles_3   -5.171072e-18\n",
       "tonalcentroidfiles_4   -1.638545e-17\n",
       "tonalcentroidfiles_5    3.083953e-18\n",
       "tonalcentroidfiles_6   -1.806760e-18\n",
       "chromagramfiles_1      -1.345725e-17\n",
       "chromagramfiles_2       3.911013e-17\n",
       "chromagramfiles_3      -3.812887e-17\n",
       "chromagramfiles_4      -2.623540e-16\n",
       "chromagramfiles_5       1.556306e-16\n",
       "chromagramfiles_6      -9.594520e-17\n",
       "chromagramfiles_7      -7.016772e-17\n",
       "chromagramfiles_8       1.074088e-16\n",
       "chromagramfiles_9      -9.194229e-17\n",
       "chromagramfiles_10     -2.439126e-17\n",
       "chromagramfiles_11      1.775609e-17\n",
       "chromagramfiles_12     -6.429574e-17\n",
       "attackslopefiles        6.551063e-17\n",
       "attackleapfiles         2.820727e-17\n",
       "dtype: float64"
      ]
     },
     "execution_count": 75,
     "metadata": {},
     "output_type": "execute_result"
    }
   ],
   "source": [
    "data = data.fillna(0)\n",
    "dataStd = pd.DataFrame(preprocessing.scale(data.iloc[:,8:]))\n",
    "dataStd.columns=data.columns[8:]\n",
    "dataStd.mean(axis=0)"
   ]
  },
  {
   "cell_type": "code",
   "execution_count": 76,
   "metadata": {
    "scrolled": true
   },
   "outputs": [
    {
     "data": {
      "text/plain": [
       "durationfiles           1.000281\n",
       "bitratefiles            1.000281\n",
       "rmsfiles                1.000281\n",
       "rmsmedianfiles          1.000281\n",
       "lowenergyfiles          1.000281\n",
       "ASRfiles                1.000281\n",
       "beatspectrumfiles       1.000281\n",
       "eventdensityfiles       1.000281\n",
       "tempofiles              1.000281\n",
       "pulseclarityfiles       1.000281\n",
       "zerocrossfiles          1.000281\n",
       "rolloffsfiles           1.000281\n",
       "brightnessfiles         1.000281\n",
       "spreadfiles             1.000281\n",
       "centroidfiles           1.000281\n",
       "kurtosisfiles           1.000281\n",
       "flatnessfiles           1.000281\n",
       "entropyfiles            1.000281\n",
       "mfccfiles_1             1.000281\n",
       "mfccfiles_2             1.000281\n",
       "mfccfiles_3             1.000281\n",
       "mfccfiles_4             1.000281\n",
       "mfccfiles_5             1.000281\n",
       "mfccfiles_6             1.000281\n",
       "mfccfiles_7             1.000281\n",
       "mfccfiles_8             1.000281\n",
       "mfccfiles_9             1.000281\n",
       "mfccfiles_10            1.000281\n",
       "mfccfiles_11            1.000281\n",
       "mfccfiles_12            1.000281\n",
       "mfccfiles_13            1.000281\n",
       "pitchfiles              0.000000\n",
       "inharmonicityfiles      1.000281\n",
       "bestkeyfiles            1.000281\n",
       "keyclarityfiles         1.000281\n",
       "modalityfiles           1.000281\n",
       "tonalcentroidfiles_1    1.000281\n",
       "tonalcentroidfiles_2    1.000281\n",
       "tonalcentroidfiles_3    1.000281\n",
       "tonalcentroidfiles_4    1.000281\n",
       "tonalcentroidfiles_5    1.000281\n",
       "tonalcentroidfiles_6    1.000281\n",
       "chromagramfiles_1       1.000281\n",
       "chromagramfiles_2       1.000281\n",
       "chromagramfiles_3       1.000281\n",
       "chromagramfiles_4       1.000281\n",
       "chromagramfiles_5       1.000281\n",
       "chromagramfiles_6       1.000281\n",
       "chromagramfiles_7       1.000281\n",
       "chromagramfiles_8       1.000281\n",
       "chromagramfiles_9       1.000281\n",
       "chromagramfiles_10      1.000281\n",
       "chromagramfiles_11      1.000281\n",
       "chromagramfiles_12      1.000281\n",
       "attackslopefiles        1.000281\n",
       "attackleapfiles         1.000281\n",
       "dtype: float64"
      ]
     },
     "execution_count": 76,
     "metadata": {},
     "output_type": "execute_result"
    }
   ],
   "source": [
    "dataStd.std(axis=0)"
   ]
  },
  {
   "cell_type": "code",
   "execution_count": 81,
   "metadata": {
    "scrolled": true
   },
   "outputs": [
    {
     "data": {
      "text/plain": [
       "<matplotlib.axes._subplots.AxesSubplot at 0x256a1603320>"
      ]
     },
     "execution_count": 81,
     "metadata": {},
     "output_type": "execute_result"
    },
    {
     "data": {
      "image/png": "[encoded data removed]",
      "text/plain": [
       "<Figure size 5760x864 with 1 Axes>"
      ]
     },
     "metadata": {
      "needs_background": "light"
     },
     "output_type": "display_data"
    }
   ],
   "source": [
    "plt.figure(figsize=(80,12))\n",
    "dataStd.boxplot()"
   ]
  },
  {
   "cell_type": "markdown",
   "metadata": {},
   "source": [
    "## Clustering"
   ]
  },
  {
   "cell_type": "markdown",
   "metadata": {},
   "source": [
    "**Con un k de 3, realice un clustering por K-Means (utilicen random_state=0).**\n",
    "\n",
    "**Agregue una columna \"Cluster\" con el segmento correspondiente (0, 1, o 2) al dataset.**"
   ]
  },
  {
   "cell_type": "code",
   "execution_count": 11,
   "metadata": {
    "scrolled": false
   },
   "outputs": [
    {
     "data": {
      "text/plain": [
       "KMeans(algorithm='auto', copy_x=True, init='k-means++', max_iter=300,\n",
       "    n_clusters=3, n_init=10, n_jobs=1, precompute_distances='auto',\n",
       "    random_state=0, tol=0.0001, verbose=0)"
      ]
     },
     "execution_count": 11,
     "metadata": {},
     "output_type": "execute_result"
    }
   ],
   "source": [
    "kmeans = KMeans(n_clusters=3, random_state=0, n_init=10)\n",
    "kmeans.fit(dataStd)"
   ]
  },
  {
   "cell_type": "code",
   "execution_count": null,
   "metadata": {},
   "outputs": [],
   "source": []
  },
  {
   "cell_type": "markdown",
   "metadata": {},
   "source": [
    "Se pueden hacer varios k-means: \n",
    "1. Entre negatives y positives de la misma compañía\n",
    "2. Entre canciones de distintas compañías (todas o los positives (ult pl))"
   ]
  }
 ],
 "metadata": {
  "kernelspec": {
   "display_name": "Python 3",
   "language": "python",
   "name": "python3"
  },
  "language_info": {
   "codemirror_mode": {
    "name": "ipython",
    "version": 3
   },
   "file_extension": ".py",
   "mimetype": "text/x-python",
   "name": "python",
   "nbconvert_exporter": "python",
   "pygments_lexer": "ipython3",
   "version": "3.7.0"
  }
 },
 "nbformat": 4,
 "nbformat_minor": 2
}
